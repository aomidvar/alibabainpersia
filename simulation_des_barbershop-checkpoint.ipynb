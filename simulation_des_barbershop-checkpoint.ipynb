{
 "cells": [
  {
   "cell_type": "code",
   "execution_count": 1,
   "metadata": {},
   "outputs": [
    {
     "name": "stdout",
     "output_type": "stream",
     "text": [
      "1.5061198639359155  customer 1 is arrived  \n",
      "1.5061198639359155  customer 1 is being served  \n",
      "3.358743586864676  customer 1 is departs  \n",
      " The Waiting Time for past customers is [1.8526237229287605]\n",
      "13.781339137035161  customer 2 is arrived  \n",
      "13.781339137035161  customer 2 is being served  \n",
      "19.14321177477597  customer 2 is departs  \n",
      " The Waiting Time for past customers is [1.8526237229287605, 5.3618726377408095]\n",
      "28.83242325166139  customer 3 is arrived  \n",
      "28.83242325166139  customer 3 is being served  \n",
      "34.50896331167351  customer 4 is arrived  \n",
      "38.89303572719099  customer 5 is arrived  \n",
      "40.44874697493021  customer 3 is departs  \n",
      " The Waiting Time for past customers is [1.8526237229287605, 5.3618726377408095, 11.61632372326882]\n",
      "40.44874697493021  customer 4 is being served  \n",
      "41.005723602520135  customer 6 is arrived  \n",
      "41.51084956629888  customer 7 is arrived  \n",
      "42.112040441192576  customer 4 is departs  \n",
      " The Waiting Time for past customers is [1.8526237229287605, 5.3618726377408095, 11.61632372326882, 7.603077129519065]\n",
      "42.112040441192576  customer 5 is being served  \n",
      "46.76931348464839  customer 5 is departs  \n",
      " The Waiting Time for past customers is [1.8526237229287605, 5.3618726377408095, 11.61632372326882, 7.603077129519065, 7.876277757457402]\n",
      "46.76931348464839  customer 6 is being served  \n",
      "48.14806025572087  customer 6 is departs  \n",
      " The Waiting Time for past customers is [1.8526237229287605, 5.3618726377408095, 11.61632372326882, 7.603077129519065, 7.876277757457402, 7.142336653200736]\n",
      "48.14806025572087  customer 7 is being served  \n",
      "49.557405818630386  customer 8 is arrived  \n",
      "51.47935200804692  customer 9 is arrived  \n",
      "54.68837176585939  customer 10 is arrived  \n",
      "56.794914586370474  customer 11 is arrived  \n",
      "62.74080481960355  customer 12 is arrived  \n",
      "65.10597172642993  customer 7 is departs  \n",
      " The Waiting Time for past customers is [1.8526237229287605, 5.3618726377408095, 11.61632372326882, 7.603077129519065, 7.876277757457402, 7.142336653200736, 23.595122160131048]\n",
      "65.10597172642993  customer 8 is being served  \n",
      "67.94349167579757  customer 13 is arrived  \n",
      "69.79749075691036  customer 14 is arrived  \n",
      "71.80769178685038  customer 15 is arrived  \n",
      "72.43488163923608  customer 8 is departs  \n",
      " The Waiting Time for past customers is [1.8526237229287605, 5.3618726377408095, 11.61632372326882, 7.603077129519065, 7.876277757457402, 7.142336653200736, 23.595122160131048, 22.877475820605696]\n",
      "72.43488163923608  customer 9 is being served  \n",
      "73.56255875540107  customer 16 is arrived  \n",
      "74.49661992307456  customer 17 is arrived  \n",
      "75.58296665783259  customer 18 is arrived  \n",
      "75.60966773145537  customer 9 is departs  \n",
      " The Waiting Time for past customers is [1.8526237229287605, 5.3618726377408095, 11.61632372326882, 7.603077129519065, 7.876277757457402, 7.142336653200736, 23.595122160131048, 22.877475820605696, 24.130315723408458]\n",
      "75.60966773145537  customer 10 is being served  \n",
      "95.51681736974402  customer 19 is arrived  \n",
      "96.76941174285832  customer 20 is arrived  \n",
      "96.91705279449235  customer 21 is arrived  \n",
      "98.29017835081422  customer 22 is arrived  \n",
      "101.40614637471197  customer 10 is departs  \n",
      " The Waiting Time for past customers is [1.8526237229287605, 5.3618726377408095, 11.61632372326882, 7.603077129519065, 7.876277757457402, 7.142336653200736, 23.595122160131048, 22.877475820605696, 24.130315723408458, 46.71777460885258]\n",
      "101.40614637471197  customer 11 is being served  \n",
      "105.51088827423584  customer 23 is arrived  \n",
      "105.65008915396805  customer 24 is arrived  \n",
      "110.82179737111137  customer 25 is arrived  \n",
      "110.83165850646925  customer 26 is arrived  \n",
      "113.50153624612967  customer 11 is departs  \n",
      " The Waiting Time for past customers is [1.8526237229287605, 5.3618726377408095, 11.61632372326882, 7.603077129519065, 7.876277757457402, 7.142336653200736, 23.595122160131048, 22.877475820605696, 24.130315723408458, 46.71777460885258, 56.7066216597592]\n",
      "113.50153624612967  customer 12 is being served  \n",
      "115.17914643051299  customer 27 is arrived  \n"
     ]
    },
    {
     "data": {
      "text/plain": [
       "Text(0, 0.5, 'Number of Customers')"
      ]
     },
     "execution_count": 1,
     "metadata": {},
     "output_type": "execute_result"
    },
    {
     "data": {
      "image/png": "[encoded data removed]",
      "text/plain": [
       "<Figure size 432x288 with 1 Axes>"
      ]
     },
     "metadata": {
      "needs_background": "light"
     },
     "output_type": "display_data"
    }
   ],
   "source": [
    "import simpy\n",
    "import numpy as np\n",
    "\n",
    "def generate_interarrival():\n",
    "    return np.random.exponential(6.0)\n",
    "\n",
    "def generate_service1():\n",
    "    return np.random.exponential(8.0)\n",
    "\n",
    "def barbershop_run(env, servers):\n",
    "    i = 0\n",
    "    while True:\n",
    "        i += 1\n",
    "        yield env.timeout(generate_interarrival())\n",
    "        env.process(customer(env, i,  servers))\n",
    "\n",
    "        \n",
    "       \n",
    "def customer(env, customer, servers):\n",
    "    with servers.request() as request:\n",
    "        t_arrival = env.now\n",
    "        print (env.now, ' customer {} is arrived  '.format(customer))\n",
    "        yield request\n",
    "        print (env.now, ' customer {} is being served  '.format(customer))\n",
    "        yield env.timeout(generate_service1())\n",
    "        print (env.now, ' customer {} is departs  '.format(customer))\n",
    "        t_dapart = env.now\n",
    "        wait_t.append(t_dapart-t_arrival)\n",
    "        print(' The Waiting Time for past customers is',wait_t)\n",
    "         \n",
    "obs_times=[]\n",
    "q_length=[]\n",
    "wait_t =[]\n",
    "lost_customer=0\n",
    "\n",
    "def observe(env, servers):\n",
    "    while True:\n",
    "        obs_times.append(env.now)\n",
    "        q_length.append(len(servers.queue))\n",
    "        for j in q_length:\n",
    "            lost_customer=0\n",
    "        if j > 3:\n",
    "                lost_customer +=1\n",
    "        yield env.timeout(0.5)\n",
    "        \n",
    "        \n",
    "np.random.seed(5)\n",
    "\n",
    "env = simpy.Environment()\n",
    "\n",
    "servers = simpy.Resource(env, capacity=1)\n",
    "\n",
    "env.process(barbershop_run(env, servers))\n",
    "env.process(observe(env, servers))\n",
    "env.run(until=120.5)\n",
    "\n",
    "\n",
    "import matplotlib.pyplot as plt\n",
    "plt.figure()\n",
    "plt.step(obs_times, q_length, where='post')\n",
    "plt.xlabel('Time (min)')\n",
    "plt.ylabel('Queue Length')\n",
    "\n",
    "plt.hist(wait_t)\n",
    "plt.xlabel('waiting time (min)')\n",
    "plt.ylabel('Number of Customers')\n",
    "\n"
   ]
  },
  {
   "cell_type": "code",
   "execution_count": 2,
   "metadata": {},
   "outputs": [
    {
     "name": "stdout",
     "output_type": "stream",
     "text": [
      " The loss probability for 1 size of waiting area is 0.6307053941908713\n",
      " The loss probability for 2 size of waiting area is 0.5477178423236515\n",
      " The loss probability for 3 size of waiting area is 0.5269709543568465\n",
      " The loss probability for 4 size of waiting area is 0.45643153526970953\n",
      " The loss probability for 5 size of waiting area is 0.4190871369294606\n",
      " The loss probability for 6 size of waiting area is 0.3900414937759336\n",
      " The loss probability for 7 size of waiting area is 0.3817427385892116\n",
      " The loss probability for 8 size of waiting area is 0.2033195020746888\n",
      " The loss probability for 9 size of waiting area is 0.1950207468879668\n",
      " The loss probability for 10 size of waiting area is 0.1950207468879668\n"
     ]
    },
    {
     "data": {
      "text/plain": [
       "Text(0, 0.5, 'Loss Probability')"
      ]
     },
     "execution_count": 2,
     "metadata": {},
     "output_type": "execute_result"
    },
    {
     "data": {
      "image/png": "[encoded data removed]",
      "text/plain": [
       "<Figure size 432x288 with 1 Axes>"
      ]
     },
     "metadata": {
      "needs_background": "light"
     },
     "output_type": "display_data"
    }
   ],
   "source": [
    "\n",
    "y=[]\n",
    "for w in range(1,11):\n",
    "\n",
    "    lost_customer=0\n",
    "    for j in q_length:\n",
    "            if j > w:\n",
    "                lost_customer +=1\n",
    "                #y=y.append(lost_customer/len(q_length))\n",
    "\n",
    "    print (' The loss probability for',w,'size of waiting area is',lost_customer/len(q_length))\n",
    "    y.append(lost_customer/len(q_length))\n",
    "\n",
    "x=np.arange(0,10,1)\n",
    "\n",
    "plt.figure()\n",
    "plt.plot(x,y)\n",
    "plt.xlabel('Waiting Area Size')\n",
    "plt.ylabel('Loss Probability')"
   ]
  },
  {
   "cell_type": "code",
   "execution_count": null,
   "metadata": {},
   "outputs": [],
   "source": []
  },
  {
   "cell_type": "code",
   "execution_count": null,
   "metadata": {},
   "outputs": [],
   "source": []
  },
  {
   "cell_type": "code",
   "execution_count": null,
   "metadata": {},
   "outputs": [],
   "source": []
  }
 ],
 "metadata": {
  "kernelspec": {
   "display_name": "Python 3",
   "language": "python",
   "name": "python3"
  },
  "language_info": {
   "codemirror_mode": {
    "name": "ipython",
    "version": 3
   },
   "file_extension": ".py",
   "mimetype": "text/x-python",
   "name": "python",
   "nbconvert_exporter": "python",
   "pygments_lexer": "ipython3",
   "version": "3.8.5"
  }
 },
 "nbformat": 4,
 "nbformat_minor": 4
}
