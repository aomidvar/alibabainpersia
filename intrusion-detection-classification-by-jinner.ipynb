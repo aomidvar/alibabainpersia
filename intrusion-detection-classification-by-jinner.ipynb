{
 "cells": [
  {
   "cell_type": "markdown",
   "metadata": {
    "_cell_guid": "9ea825d0-2940-4b22-97e4-2e0334b0e246",
    "_uuid": "d180f31c308c90819e44011aa6e223a9752fb98e"
   },
   "source": [
    "# Introduction\n",
    "    Feature selection\n",
    "    Linear regression \n",
    "    baseline DecisionTree, MLP, Ensemble "
   ]
  },
  {
   "cell_type": "markdown",
   "metadata": {
    "_cell_guid": "e353758a-23e4-4f94-a7b4-76dd07ebdd04",
    "_uuid": "d3a0dcd29f0cfd9568e8a401a7894afb69e44658"
   },
   "source": [
    "## 1) Feature selection\n",
    "    "
   ]
  },
  {
   "cell_type": "markdown",
   "metadata": {
    "_cell_guid": "4a708a81-c556-45ec-987a-8cd4a4c09dcd",
    "_uuid": "6c1b5ccc179140f6f8fc83ccaace4d84d2a91cbe"
   },
   "source": [
    "###### - Pandas로 training dataset, test dataset 불러오기"
   ]
  },
  {
   "cell_type": "code",
   "execution_count": 1,
   "metadata": {
    "_cell_guid": "936dcd83-e109-4078-bde8-2c1d616f61ef",
    "_uuid": "f208d6751b1a1c39f3e7d77e17e822136f254104",
    "collapsed": true
   },
   "outputs": [],
   "source": [
    "import pandas as pd\n",
    "import seaborn as sns\n",
    "import matplotlib.pyplot as plt\n",
    "import matplotlib as matplot\n",
    "import numpy as np\n",
    "\n",
    "import re\n",
    "import sklearn\n",
    "\n",
    "import warnings\n",
    "warnings.filterwarnings(\"ignore\")\n",
    "\n",
    "%matplotlib inline\n",
    "\n",
    "df_train = pd.read_csv('../input/Train_data.csv')\n",
    "df_test = pd.read_csv('../input/test_data.csv')\n",
    "df_test = df_test.drop('Unnamed: 0', axis=1)"
   ]
  },
  {
   "cell_type": "code",
   "execution_count": 2,
   "metadata": {
    "_cell_guid": "b81cd6e4-7b43-46f0-a619-a2732816f259",
    "_uuid": "3adf147fed7b86527bae09791bd55c6a2a555e86"
   },
   "outputs": [
    {
     "data": {
      "text/html": [
       "<div>\n",
       "<style>\n",
       "    .dataframe thead tr:only-child th {\n",
       "        text-align: right;\n",
       "    }\n",
       "\n",
       "    .dataframe thead th {\n",
       "        text-align: left;\n",
       "    }\n",
       "\n",
       "    .dataframe tbody tr th {\n",
       "        vertical-align: top;\n",
       "    }\n",
       "</style>\n",
       "<table border=\"1\" class=\"dataframe\">\n",
       "  <thead>\n",
       "    <tr style=\"text-align: right;\">\n",
       "      <th></th>\n",
       "      <th>duration</th>\n",
       "      <th>protocol_type</th>\n",
       "      <th>service</th>\n",
       "      <th>flag</th>\n",
       "      <th>src_bytes</th>\n",
       "      <th>dst_bytes</th>\n",
       "      <th>land</th>\n",
       "      <th>wrong_fragment</th>\n",
       "      <th>urgent</th>\n",
       "      <th>hot</th>\n",
       "      <th>...</th>\n",
       "      <th>dst_host_srv_count</th>\n",
       "      <th>dst_host_same_srv_rate</th>\n",
       "      <th>dst_host_diff_srv_rate</th>\n",
       "      <th>dst_host_same_src_port_rate</th>\n",
       "      <th>dst_host_srv_diff_host_rate</th>\n",
       "      <th>dst_host_serror_rate</th>\n",
       "      <th>dst_host_srv_serror_rate</th>\n",
       "      <th>dst_host_rerror_rate</th>\n",
       "      <th>dst_host_srv_rerror_rate</th>\n",
       "      <th>xAttack</th>\n",
       "    </tr>\n",
       "  </thead>\n",
       "  <tbody>\n",
       "    <tr>\n",
       "      <th>0</th>\n",
       "      <td>0</td>\n",
       "      <td>icmp</td>\n",
       "      <td>20</td>\n",
       "      <td>2</td>\n",
       "      <td>491</td>\n",
       "      <td>0</td>\n",
       "      <td>0</td>\n",
       "      <td>0</td>\n",
       "      <td>0</td>\n",
       "      <td>0</td>\n",
       "      <td>...</td>\n",
       "      <td>25</td>\n",
       "      <td>0.17</td>\n",
       "      <td>0.03</td>\n",
       "      <td>0.17</td>\n",
       "      <td>0.00</td>\n",
       "      <td>0.00</td>\n",
       "      <td>0.00</td>\n",
       "      <td>0.05</td>\n",
       "      <td>0.00</td>\n",
       "      <td>normal</td>\n",
       "    </tr>\n",
       "    <tr>\n",
       "      <th>1</th>\n",
       "      <td>0</td>\n",
       "      <td>udp</td>\n",
       "      <td>45</td>\n",
       "      <td>2</td>\n",
       "      <td>146</td>\n",
       "      <td>0</td>\n",
       "      <td>0</td>\n",
       "      <td>0</td>\n",
       "      <td>0</td>\n",
       "      <td>0</td>\n",
       "      <td>...</td>\n",
       "      <td>1</td>\n",
       "      <td>0.00</td>\n",
       "      <td>0.60</td>\n",
       "      <td>0.88</td>\n",
       "      <td>0.00</td>\n",
       "      <td>0.00</td>\n",
       "      <td>0.00</td>\n",
       "      <td>0.00</td>\n",
       "      <td>0.00</td>\n",
       "      <td>normal</td>\n",
       "    </tr>\n",
       "    <tr>\n",
       "      <th>2</th>\n",
       "      <td>0</td>\n",
       "      <td>icmp</td>\n",
       "      <td>50</td>\n",
       "      <td>4</td>\n",
       "      <td>0</td>\n",
       "      <td>0</td>\n",
       "      <td>0</td>\n",
       "      <td>0</td>\n",
       "      <td>0</td>\n",
       "      <td>0</td>\n",
       "      <td>...</td>\n",
       "      <td>26</td>\n",
       "      <td>0.10</td>\n",
       "      <td>0.05</td>\n",
       "      <td>0.00</td>\n",
       "      <td>0.00</td>\n",
       "      <td>1.00</td>\n",
       "      <td>1.00</td>\n",
       "      <td>0.00</td>\n",
       "      <td>0.00</td>\n",
       "      <td>dos</td>\n",
       "    </tr>\n",
       "    <tr>\n",
       "      <th>3</th>\n",
       "      <td>0</td>\n",
       "      <td>icmp</td>\n",
       "      <td>25</td>\n",
       "      <td>2</td>\n",
       "      <td>232</td>\n",
       "      <td>8153</td>\n",
       "      <td>0</td>\n",
       "      <td>0</td>\n",
       "      <td>0</td>\n",
       "      <td>0</td>\n",
       "      <td>...</td>\n",
       "      <td>255</td>\n",
       "      <td>1.00</td>\n",
       "      <td>0.00</td>\n",
       "      <td>0.03</td>\n",
       "      <td>0.04</td>\n",
       "      <td>0.03</td>\n",
       "      <td>0.01</td>\n",
       "      <td>0.00</td>\n",
       "      <td>0.01</td>\n",
       "      <td>normal</td>\n",
       "    </tr>\n",
       "    <tr>\n",
       "      <th>4</th>\n",
       "      <td>0</td>\n",
       "      <td>icmp</td>\n",
       "      <td>25</td>\n",
       "      <td>2</td>\n",
       "      <td>199</td>\n",
       "      <td>420</td>\n",
       "      <td>0</td>\n",
       "      <td>0</td>\n",
       "      <td>0</td>\n",
       "      <td>0</td>\n",
       "      <td>...</td>\n",
       "      <td>255</td>\n",
       "      <td>1.00</td>\n",
       "      <td>0.00</td>\n",
       "      <td>0.00</td>\n",
       "      <td>0.00</td>\n",
       "      <td>0.00</td>\n",
       "      <td>0.00</td>\n",
       "      <td>0.00</td>\n",
       "      <td>0.00</td>\n",
       "      <td>normal</td>\n",
       "    </tr>\n",
       "  </tbody>\n",
       "</table>\n",
       "<p>5 rows × 42 columns</p>\n",
       "</div>"
      ],
      "text/plain": [
       "   duration protocol_type  service  flag  src_bytes  dst_bytes  land  \\\n",
       "0         0          icmp       20     2        491          0     0   \n",
       "1         0           udp       45     2        146          0     0   \n",
       "2         0          icmp       50     4          0          0     0   \n",
       "3         0          icmp       25     2        232       8153     0   \n",
       "4         0          icmp       25     2        199        420     0   \n",
       "\n",
       "   wrong_fragment  urgent  hot   ...     dst_host_srv_count  \\\n",
       "0               0       0    0   ...                     25   \n",
       "1               0       0    0   ...                      1   \n",
       "2               0       0    0   ...                     26   \n",
       "3               0       0    0   ...                    255   \n",
       "4               0       0    0   ...                    255   \n",
       "\n",
       "   dst_host_same_srv_rate  dst_host_diff_srv_rate  \\\n",
       "0                    0.17                    0.03   \n",
       "1                    0.00                    0.60   \n",
       "2                    0.10                    0.05   \n",
       "3                    1.00                    0.00   \n",
       "4                    1.00                    0.00   \n",
       "\n",
       "   dst_host_same_src_port_rate  dst_host_srv_diff_host_rate  \\\n",
       "0                         0.17                         0.00   \n",
       "1                         0.88                         0.00   \n",
       "2                         0.00                         0.00   \n",
       "3                         0.03                         0.04   \n",
       "4                         0.00                         0.00   \n",
       "\n",
       "   dst_host_serror_rate  dst_host_srv_serror_rate  dst_host_rerror_rate  \\\n",
       "0                  0.00                      0.00                  0.05   \n",
       "1                  0.00                      0.00                  0.00   \n",
       "2                  1.00                      1.00                  0.00   \n",
       "3                  0.03                      0.01                  0.00   \n",
       "4                  0.00                      0.00                  0.00   \n",
       "\n",
       "   dst_host_srv_rerror_rate  xAttack  \n",
       "0                      0.00   normal  \n",
       "1                      0.00   normal  \n",
       "2                      0.00      dos  \n",
       "3                      0.01   normal  \n",
       "4                      0.00   normal  \n",
       "\n",
       "[5 rows x 42 columns]"
      ]
     },
     "execution_count": 2,
     "metadata": {},
     "output_type": "execute_result"
    }
   ],
   "source": [
    "df_train.head()"
   ]
  },
  {
   "cell_type": "code",
   "execution_count": 3,
   "metadata": {
    "_cell_guid": "0f5ba59d-72f7-4edc-8d75-492a9f70cbe9",
    "_uuid": "9370a0518fe52406fd3224eaff704a50a0428f83"
   },
   "outputs": [
    {
     "data": {
      "text/html": [
       "<div>\n",
       "<style>\n",
       "    .dataframe thead tr:only-child th {\n",
       "        text-align: right;\n",
       "    }\n",
       "\n",
       "    .dataframe thead th {\n",
       "        text-align: left;\n",
       "    }\n",
       "\n",
       "    .dataframe tbody tr th {\n",
       "        vertical-align: top;\n",
       "    }\n",
       "</style>\n",
       "<table border=\"1\" class=\"dataframe\">\n",
       "  <thead>\n",
       "    <tr style=\"text-align: right;\">\n",
       "      <th></th>\n",
       "      <th>duration</th>\n",
       "      <th>protocol_type</th>\n",
       "      <th>service</th>\n",
       "      <th>flag</th>\n",
       "      <th>src_bytes</th>\n",
       "      <th>dst_bytes</th>\n",
       "      <th>land</th>\n",
       "      <th>wrong_fragment</th>\n",
       "      <th>urgent</th>\n",
       "      <th>hot</th>\n",
       "      <th>...</th>\n",
       "      <th>dst_host_srv_count</th>\n",
       "      <th>dst_host_same_srv_rate</th>\n",
       "      <th>dst_host_diff_srv_rate</th>\n",
       "      <th>dst_host_same_src_port_rate</th>\n",
       "      <th>dst_host_srv_diff_host_rate</th>\n",
       "      <th>dst_host_serror_rate</th>\n",
       "      <th>dst_host_srv_serror_rate</th>\n",
       "      <th>dst_host_rerror_rate</th>\n",
       "      <th>dst_host_srv_rerror_rate</th>\n",
       "      <th>xAttack</th>\n",
       "    </tr>\n",
       "  </thead>\n",
       "  <tbody>\n",
       "    <tr>\n",
       "      <th>0</th>\n",
       "      <td>0</td>\n",
       "      <td>icmp</td>\n",
       "      <td>25</td>\n",
       "      <td>4</td>\n",
       "      <td>0</td>\n",
       "      <td>0</td>\n",
       "      <td>0</td>\n",
       "      <td>0</td>\n",
       "      <td>0</td>\n",
       "      <td>0</td>\n",
       "      <td>...</td>\n",
       "      <td>255</td>\n",
       "      <td>1.00</td>\n",
       "      <td>0.00</td>\n",
       "      <td>0.00</td>\n",
       "      <td>0.00</td>\n",
       "      <td>0.65</td>\n",
       "      <td>0.65</td>\n",
       "      <td>0.32</td>\n",
       "      <td>0.32</td>\n",
       "      <td>dos</td>\n",
       "    </tr>\n",
       "    <tr>\n",
       "      <th>1</th>\n",
       "      <td>0</td>\n",
       "      <td>icmp</td>\n",
       "      <td>25</td>\n",
       "      <td>2</td>\n",
       "      <td>312</td>\n",
       "      <td>1856</td>\n",
       "      <td>0</td>\n",
       "      <td>0</td>\n",
       "      <td>0</td>\n",
       "      <td>0</td>\n",
       "      <td>...</td>\n",
       "      <td>254</td>\n",
       "      <td>1.00</td>\n",
       "      <td>0.00</td>\n",
       "      <td>1.00</td>\n",
       "      <td>0.06</td>\n",
       "      <td>0.00</td>\n",
       "      <td>0.00</td>\n",
       "      <td>0.00</td>\n",
       "      <td>0.00</td>\n",
       "      <td>normal</td>\n",
       "    </tr>\n",
       "    <tr>\n",
       "      <th>2</th>\n",
       "      <td>0</td>\n",
       "      <td>icmp</td>\n",
       "      <td>25</td>\n",
       "      <td>2</td>\n",
       "      <td>245</td>\n",
       "      <td>2058</td>\n",
       "      <td>0</td>\n",
       "      <td>0</td>\n",
       "      <td>0</td>\n",
       "      <td>0</td>\n",
       "      <td>...</td>\n",
       "      <td>255</td>\n",
       "      <td>1.00</td>\n",
       "      <td>0.00</td>\n",
       "      <td>0.01</td>\n",
       "      <td>0.05</td>\n",
       "      <td>0.01</td>\n",
       "      <td>0.00</td>\n",
       "      <td>0.00</td>\n",
       "      <td>0.00</td>\n",
       "      <td>normal</td>\n",
       "    </tr>\n",
       "    <tr>\n",
       "      <th>3</th>\n",
       "      <td>0</td>\n",
       "      <td>icmp</td>\n",
       "      <td>25</td>\n",
       "      <td>2</td>\n",
       "      <td>298</td>\n",
       "      <td>1267</td>\n",
       "      <td>0</td>\n",
       "      <td>0</td>\n",
       "      <td>0</td>\n",
       "      <td>0</td>\n",
       "      <td>...</td>\n",
       "      <td>255</td>\n",
       "      <td>1.00</td>\n",
       "      <td>0.00</td>\n",
       "      <td>0.00</td>\n",
       "      <td>0.00</td>\n",
       "      <td>0.00</td>\n",
       "      <td>0.00</td>\n",
       "      <td>0.00</td>\n",
       "      <td>0.00</td>\n",
       "      <td>normal</td>\n",
       "    </tr>\n",
       "    <tr>\n",
       "      <th>4</th>\n",
       "      <td>0</td>\n",
       "      <td>icmp</td>\n",
       "      <td>20</td>\n",
       "      <td>2</td>\n",
       "      <td>740</td>\n",
       "      <td>0</td>\n",
       "      <td>0</td>\n",
       "      <td>0</td>\n",
       "      <td>0</td>\n",
       "      <td>0</td>\n",
       "      <td>...</td>\n",
       "      <td>19</td>\n",
       "      <td>0.18</td>\n",
       "      <td>0.03</td>\n",
       "      <td>0.18</td>\n",
       "      <td>0.00</td>\n",
       "      <td>0.00</td>\n",
       "      <td>0.00</td>\n",
       "      <td>0.00</td>\n",
       "      <td>0.00</td>\n",
       "      <td>normal</td>\n",
       "    </tr>\n",
       "  </tbody>\n",
       "</table>\n",
       "<p>5 rows × 42 columns</p>\n",
       "</div>"
      ],
      "text/plain": [
       "   duration protocol_type  service  flag  src_bytes  dst_bytes  land  \\\n",
       "0         0          icmp       25     4          0          0     0   \n",
       "1         0          icmp       25     2        312       1856     0   \n",
       "2         0          icmp       25     2        245       2058     0   \n",
       "3         0          icmp       25     2        298       1267     0   \n",
       "4         0          icmp       20     2        740          0     0   \n",
       "\n",
       "   wrong_fragment  urgent  hot   ...     dst_host_srv_count  \\\n",
       "0               0       0    0   ...                    255   \n",
       "1               0       0    0   ...                    254   \n",
       "2               0       0    0   ...                    255   \n",
       "3               0       0    0   ...                    255   \n",
       "4               0       0    0   ...                     19   \n",
       "\n",
       "   dst_host_same_srv_rate  dst_host_diff_srv_rate  \\\n",
       "0                    1.00                    0.00   \n",
       "1                    1.00                    0.00   \n",
       "2                    1.00                    0.00   \n",
       "3                    1.00                    0.00   \n",
       "4                    0.18                    0.03   \n",
       "\n",
       "   dst_host_same_src_port_rate  dst_host_srv_diff_host_rate  \\\n",
       "0                         0.00                         0.00   \n",
       "1                         1.00                         0.06   \n",
       "2                         0.01                         0.05   \n",
       "3                         0.00                         0.00   \n",
       "4                         0.18                         0.00   \n",
       "\n",
       "   dst_host_serror_rate  dst_host_srv_serror_rate  dst_host_rerror_rate  \\\n",
       "0                  0.65                      0.65                  0.32   \n",
       "1                  0.00                      0.00                  0.00   \n",
       "2                  0.01                      0.00                  0.00   \n",
       "3                  0.00                      0.00                  0.00   \n",
       "4                  0.00                      0.00                  0.00   \n",
       "\n",
       "   dst_host_srv_rerror_rate  xAttack  \n",
       "0                      0.32      dos  \n",
       "1                      0.00   normal  \n",
       "2                      0.00   normal  \n",
       "3                      0.00   normal  \n",
       "4                      0.00   normal  \n",
       "\n",
       "[5 rows x 42 columns]"
      ]
     },
     "execution_count": 3,
     "metadata": {},
     "output_type": "execute_result"
    }
   ],
   "source": [
    "df_test.head()"
   ]
  },
  {
   "cell_type": "markdown",
   "metadata": {
    "_cell_guid": "61fc250e-ce7d-4046-adc6-7943f694d319",
    "_uuid": "bc7fa31bd05d3c7e0f08faae251b4018adedd6ba"
   },
   "source": [
    "###### - training dataset"
   ]
  },
  {
   "cell_type": "code",
   "execution_count": 4,
   "metadata": {
    "_cell_guid": "79ae1b78-ad06-4ff8-964f-5d64d206d11d",
    "_uuid": "8b82bcc8a65e3b04cfbd11931620fbffbdac52c3",
    "collapsed": true
   },
   "outputs": [],
   "source": [
    "X_train = df_train.drop('xAttack', axis=1)\n",
    "Y_train = df_train.loc[:,['xAttack']]\n",
    "X_test = df_test.drop('xAttack', axis=1)\n",
    "Y_test = df_test.loc[:,['xAttack']]"
   ]
  },
  {
   "cell_type": "markdown",
   "metadata": {
    "_cell_guid": "b07e8a58-085a-4c04-9713-488bd0c50fea",
    "_uuid": "2035930bb9eafd19e2cb5906cb06ef6a0e50a619"
   },
   "source": [
    "###### - preprocessing one hot encoding  onehotencoder,  LabelBinarizer"
   ]
  },
  {
   "cell_type": "code",
   "execution_count": 5,
   "metadata": {
    "_cell_guid": "10694d3e-addd-49f8-be5b-25f3e9cc63a0",
    "_uuid": "0f2e3a1aa95525075b8eb064b9173b36f4b651f2",
    "collapsed": true
   },
   "outputs": [],
   "source": [
    "from sklearn import preprocessing\n",
    "from sklearn.preprocessing import OneHotEncoder"
   ]
  },
  {
   "cell_type": "code",
   "execution_count": 6,
   "metadata": {
    "_cell_guid": "58b70f7f-6ead-4b5e-8424-04660069681b",
    "_uuid": "193805a6a0e138e119a5d456b16fe468e84a683e",
    "collapsed": true
   },
   "outputs": [],
   "source": [
    "le = preprocessing.LabelEncoder()\n",
    "enc = OneHotEncoder()\n",
    "lb = preprocessing.LabelBinarizer()"
   ]
  },
  {
   "cell_type": "markdown",
   "metadata": {
    "_cell_guid": "e77eb2f4-abf2-4aa9-9d0c-25b311178cad",
    "_uuid": "0f641714525c947ac7a47103effad55c69f4a8be"
   },
   "source": [
    "- X OneHotEncoding"
   ]
  },
  {
   "cell_type": "code",
   "execution_count": 7,
   "metadata": {
    "_cell_guid": "95e6a442-3cb5-452a-b0a8-23eadf29418c",
    "_uuid": "ce401e8dbf4fa966d0fbc8a103fd795f0bf0a781"
   },
   "outputs": [
    {
     "data": {
      "text/html": [
       "<div>\n",
       "<style>\n",
       "    .dataframe thead tr:only-child th {\n",
       "        text-align: right;\n",
       "    }\n",
       "\n",
       "    .dataframe thead th {\n",
       "        text-align: left;\n",
       "    }\n",
       "\n",
       "    .dataframe tbody tr th {\n",
       "        vertical-align: top;\n",
       "    }\n",
       "</style>\n",
       "<table border=\"1\" class=\"dataframe\">\n",
       "  <thead>\n",
       "    <tr style=\"text-align: right;\">\n",
       "      <th></th>\n",
       "      <th>duration</th>\n",
       "      <th>protocol_type</th>\n",
       "      <th>service</th>\n",
       "      <th>flag</th>\n",
       "      <th>src_bytes</th>\n",
       "      <th>dst_bytes</th>\n",
       "      <th>land</th>\n",
       "      <th>wrong_fragment</th>\n",
       "      <th>urgent</th>\n",
       "      <th>hot</th>\n",
       "      <th>...</th>\n",
       "      <th>dst_host_count</th>\n",
       "      <th>dst_host_srv_count</th>\n",
       "      <th>dst_host_same_srv_rate</th>\n",
       "      <th>dst_host_diff_srv_rate</th>\n",
       "      <th>dst_host_same_src_port_rate</th>\n",
       "      <th>dst_host_srv_diff_host_rate</th>\n",
       "      <th>dst_host_serror_rate</th>\n",
       "      <th>dst_host_srv_serror_rate</th>\n",
       "      <th>dst_host_rerror_rate</th>\n",
       "      <th>dst_host_srv_rerror_rate</th>\n",
       "    </tr>\n",
       "  </thead>\n",
       "  <tbody>\n",
       "    <tr>\n",
       "      <th>0</th>\n",
       "      <td>0</td>\n",
       "      <td>0</td>\n",
       "      <td>20</td>\n",
       "      <td>2</td>\n",
       "      <td>491</td>\n",
       "      <td>0</td>\n",
       "      <td>0</td>\n",
       "      <td>0</td>\n",
       "      <td>0</td>\n",
       "      <td>0</td>\n",
       "      <td>...</td>\n",
       "      <td>150</td>\n",
       "      <td>25</td>\n",
       "      <td>0.17</td>\n",
       "      <td>0.03</td>\n",
       "      <td>0.17</td>\n",
       "      <td>0.00</td>\n",
       "      <td>0.00</td>\n",
       "      <td>0.00</td>\n",
       "      <td>0.05</td>\n",
       "      <td>0.00</td>\n",
       "    </tr>\n",
       "    <tr>\n",
       "      <th>1</th>\n",
       "      <td>0</td>\n",
       "      <td>2</td>\n",
       "      <td>45</td>\n",
       "      <td>2</td>\n",
       "      <td>146</td>\n",
       "      <td>0</td>\n",
       "      <td>0</td>\n",
       "      <td>0</td>\n",
       "      <td>0</td>\n",
       "      <td>0</td>\n",
       "      <td>...</td>\n",
       "      <td>255</td>\n",
       "      <td>1</td>\n",
       "      <td>0.00</td>\n",
       "      <td>0.60</td>\n",
       "      <td>0.88</td>\n",
       "      <td>0.00</td>\n",
       "      <td>0.00</td>\n",
       "      <td>0.00</td>\n",
       "      <td>0.00</td>\n",
       "      <td>0.00</td>\n",
       "    </tr>\n",
       "    <tr>\n",
       "      <th>2</th>\n",
       "      <td>0</td>\n",
       "      <td>0</td>\n",
       "      <td>50</td>\n",
       "      <td>4</td>\n",
       "      <td>0</td>\n",
       "      <td>0</td>\n",
       "      <td>0</td>\n",
       "      <td>0</td>\n",
       "      <td>0</td>\n",
       "      <td>0</td>\n",
       "      <td>...</td>\n",
       "      <td>255</td>\n",
       "      <td>26</td>\n",
       "      <td>0.10</td>\n",
       "      <td>0.05</td>\n",
       "      <td>0.00</td>\n",
       "      <td>0.00</td>\n",
       "      <td>1.00</td>\n",
       "      <td>1.00</td>\n",
       "      <td>0.00</td>\n",
       "      <td>0.00</td>\n",
       "    </tr>\n",
       "    <tr>\n",
       "      <th>3</th>\n",
       "      <td>0</td>\n",
       "      <td>0</td>\n",
       "      <td>25</td>\n",
       "      <td>2</td>\n",
       "      <td>232</td>\n",
       "      <td>8153</td>\n",
       "      <td>0</td>\n",
       "      <td>0</td>\n",
       "      <td>0</td>\n",
       "      <td>0</td>\n",
       "      <td>...</td>\n",
       "      <td>30</td>\n",
       "      <td>255</td>\n",
       "      <td>1.00</td>\n",
       "      <td>0.00</td>\n",
       "      <td>0.03</td>\n",
       "      <td>0.04</td>\n",
       "      <td>0.03</td>\n",
       "      <td>0.01</td>\n",
       "      <td>0.00</td>\n",
       "      <td>0.01</td>\n",
       "    </tr>\n",
       "    <tr>\n",
       "      <th>4</th>\n",
       "      <td>0</td>\n",
       "      <td>0</td>\n",
       "      <td>25</td>\n",
       "      <td>2</td>\n",
       "      <td>199</td>\n",
       "      <td>420</td>\n",
       "      <td>0</td>\n",
       "      <td>0</td>\n",
       "      <td>0</td>\n",
       "      <td>0</td>\n",
       "      <td>...</td>\n",
       "      <td>255</td>\n",
       "      <td>255</td>\n",
       "      <td>1.00</td>\n",
       "      <td>0.00</td>\n",
       "      <td>0.00</td>\n",
       "      <td>0.00</td>\n",
       "      <td>0.00</td>\n",
       "      <td>0.00</td>\n",
       "      <td>0.00</td>\n",
       "      <td>0.00</td>\n",
       "    </tr>\n",
       "  </tbody>\n",
       "</table>\n",
       "<p>5 rows × 41 columns</p>\n",
       "</div>"
      ],
      "text/plain": [
       "   duration  protocol_type  service  flag  src_bytes  dst_bytes  land  \\\n",
       "0         0              0       20     2        491          0     0   \n",
       "1         0              2       45     2        146          0     0   \n",
       "2         0              0       50     4          0          0     0   \n",
       "3         0              0       25     2        232       8153     0   \n",
       "4         0              0       25     2        199        420     0   \n",
       "\n",
       "   wrong_fragment  urgent  hot            ...             dst_host_count  \\\n",
       "0               0       0    0            ...                        150   \n",
       "1               0       0    0            ...                        255   \n",
       "2               0       0    0            ...                        255   \n",
       "3               0       0    0            ...                         30   \n",
       "4               0       0    0            ...                        255   \n",
       "\n",
       "   dst_host_srv_count  dst_host_same_srv_rate  dst_host_diff_srv_rate  \\\n",
       "0                  25                    0.17                    0.03   \n",
       "1                   1                    0.00                    0.60   \n",
       "2                  26                    0.10                    0.05   \n",
       "3                 255                    1.00                    0.00   \n",
       "4                 255                    1.00                    0.00   \n",
       "\n",
       "   dst_host_same_src_port_rate  dst_host_srv_diff_host_rate  \\\n",
       "0                         0.17                         0.00   \n",
       "1                         0.88                         0.00   \n",
       "2                         0.00                         0.00   \n",
       "3                         0.03                         0.04   \n",
       "4                         0.00                         0.00   \n",
       "\n",
       "   dst_host_serror_rate  dst_host_srv_serror_rate  dst_host_rerror_rate  \\\n",
       "0                  0.00                      0.00                  0.05   \n",
       "1                  0.00                      0.00                  0.00   \n",
       "2                  1.00                      1.00                  0.00   \n",
       "3                  0.03                      0.01                  0.00   \n",
       "4                  0.00                      0.00                  0.00   \n",
       "\n",
       "   dst_host_srv_rerror_rate  \n",
       "0                      0.00  \n",
       "1                      0.00  \n",
       "2                      0.00  \n",
       "3                      0.01  \n",
       "4                      0.00  \n",
       "\n",
       "[5 rows x 41 columns]"
      ]
     },
     "execution_count": 7,
     "metadata": {},
     "output_type": "execute_result"
    }
   ],
   "source": [
    "X_train['protocol_type'] = le.fit_transform(X_train['protocol_type'])\n",
    "# enc.fit_transform(X_train['protocol_type'])\n",
    "\n",
    "X_test['protocol_type'] = le.fit_transform(X_test['protocol_type'])\n",
    "# enc.fit_transform(X_test['protocol_type'])\n",
    "\n",
    "X_train.head()"
   ]
  },
  {
   "cell_type": "markdown",
   "metadata": {
    "_cell_guid": "165c6f9f-0e10-49e5-90f6-0be9d69fd907",
    "_uuid": "a2ed1559ce7d786d5fe0b1a088872bbf688dd1de"
   },
   "source": [
    "- Y LabelBinarizer"
   ]
  },
  {
   "cell_type": "code",
   "execution_count": 8,
   "metadata": {
    "_cell_guid": "81579637-fd13-4f26-be25-bc4add67fd9b",
    "_uuid": "40c2c9b5a73c6c014eb9abc889b6cdfdd5798a83"
   },
   "outputs": [
    {
     "data": {
      "text/html": [
       "<div>\n",
       "<style>\n",
       "    .dataframe thead tr:only-child th {\n",
       "        text-align: right;\n",
       "    }\n",
       "\n",
       "    .dataframe thead th {\n",
       "        text-align: left;\n",
       "    }\n",
       "\n",
       "    .dataframe tbody tr th {\n",
       "        vertical-align: top;\n",
       "    }\n",
       "</style>\n",
       "<table border=\"1\" class=\"dataframe\">\n",
       "  <thead>\n",
       "    <tr style=\"text-align: right;\">\n",
       "      <th></th>\n",
       "      <th>xAttack</th>\n",
       "    </tr>\n",
       "  </thead>\n",
       "  <tbody>\n",
       "    <tr>\n",
       "      <th>count</th>\n",
       "      <td>125973.000000</td>\n",
       "    </tr>\n",
       "    <tr>\n",
       "      <th>mean</th>\n",
       "      <td>0.744985</td>\n",
       "    </tr>\n",
       "    <tr>\n",
       "      <th>std</th>\n",
       "      <td>0.653748</td>\n",
       "    </tr>\n",
       "    <tr>\n",
       "      <th>min</th>\n",
       "      <td>0.000000</td>\n",
       "    </tr>\n",
       "    <tr>\n",
       "      <th>25%</th>\n",
       "      <td>0.000000</td>\n",
       "    </tr>\n",
       "    <tr>\n",
       "      <th>50%</th>\n",
       "      <td>1.000000</td>\n",
       "    </tr>\n",
       "    <tr>\n",
       "      <th>75%</th>\n",
       "      <td>1.000000</td>\n",
       "    </tr>\n",
       "    <tr>\n",
       "      <th>max</th>\n",
       "      <td>4.000000</td>\n",
       "    </tr>\n",
       "  </tbody>\n",
       "</table>\n",
       "</div>"
      ],
      "text/plain": [
       "             xAttack\n",
       "count  125973.000000\n",
       "mean        0.744985\n",
       "std         0.653748\n",
       "min         0.000000\n",
       "25%         0.000000\n",
       "50%         1.000000\n",
       "75%         1.000000\n",
       "max         4.000000"
      ]
     },
     "execution_count": 8,
     "metadata": {},
     "output_type": "execute_result"
    }
   ],
   "source": [
    "Y_train['xAttack'] = le.fit_transform(Y_train['xAttack'])\n",
    "lb.fit_transform(Y_train['xAttack'])\n",
    "\n",
    "Y_test['xAttack'] = le.fit_transform(Y_test['xAttack'])\n",
    "lb.fit_transform(Y_test['xAttack'])\n",
    "\n",
    "Y_train.describe()"
   ]
  },
  {
   "cell_type": "markdown",
   "metadata": {
    "_cell_guid": "a01dff4a-5413-4111-be29-053ebbd939c1",
    "_uuid": "39744b8a0505221bf7f9eda3f3a90858be748be0"
   },
   "source": [
    "### 1. Standard deviation\n",
    "    standard deviation continuous discrete"
   ]
  },
  {
   "cell_type": "code",
   "execution_count": 9,
   "metadata": {
    "_cell_guid": "b2bd6692-0d3a-41c4-a270-1ea0cbee38a1",
    "_uuid": "f20d04d85758220bc28114b389dfaabf304a6171",
    "scrolled": true
   },
   "outputs": [
    {
     "data": {
      "text/html": [
       "<div>\n",
       "<style>\n",
       "    .dataframe thead tr:only-child th {\n",
       "        text-align: right;\n",
       "    }\n",
       "\n",
       "    .dataframe thead th {\n",
       "        text-align: left;\n",
       "    }\n",
       "\n",
       "    .dataframe tbody tr th {\n",
       "        vertical-align: top;\n",
       "    }\n",
       "</style>\n",
       "<table border=\"1\" class=\"dataframe\">\n",
       "  <thead>\n",
       "    <tr style=\"text-align: right;\">\n",
       "      <th></th>\n",
       "      <th>0</th>\n",
       "    </tr>\n",
       "  </thead>\n",
       "  <tbody>\n",
       "    <tr>\n",
       "      <th>num_outbound_cmds</th>\n",
       "      <td>0.000000</td>\n",
       "    </tr>\n",
       "    <tr>\n",
       "      <th>urgent</th>\n",
       "      <td>0.014366</td>\n",
       "    </tr>\n",
       "    <tr>\n",
       "      <th>num_shells</th>\n",
       "      <td>0.022181</td>\n",
       "    </tr>\n",
       "    <tr>\n",
       "      <th>root_shell</th>\n",
       "      <td>0.036603</td>\n",
       "    </tr>\n",
       "    <tr>\n",
       "      <th>num_failed_logins</th>\n",
       "      <td>0.045239</td>\n",
       "    </tr>\n",
       "    <tr>\n",
       "      <th>num_access_files</th>\n",
       "      <td>0.099370</td>\n",
       "    </tr>\n",
       "    <tr>\n",
       "      <th>dst_host_srv_diff_host_rate</th>\n",
       "      <td>0.112564</td>\n",
       "    </tr>\n",
       "    <tr>\n",
       "      <th>diff_srv_rate</th>\n",
       "      <td>0.180314</td>\n",
       "    </tr>\n",
       "    <tr>\n",
       "      <th>dst_host_diff_srv_rate</th>\n",
       "      <td>0.188922</td>\n",
       "    </tr>\n",
       "    <tr>\n",
       "      <th>wrong_fragment</th>\n",
       "      <td>0.253530</td>\n",
       "    </tr>\n",
       "  </tbody>\n",
       "</table>\n",
       "</div>"
      ],
      "text/plain": [
       "                                    0\n",
       "num_outbound_cmds            0.000000\n",
       "urgent                       0.014366\n",
       "num_shells                   0.022181\n",
       "root_shell                   0.036603\n",
       "num_failed_logins            0.045239\n",
       "num_access_files             0.099370\n",
       "dst_host_srv_diff_host_rate  0.112564\n",
       "diff_srv_rate                0.180314\n",
       "dst_host_diff_srv_rate       0.188922\n",
       "wrong_fragment               0.253530"
      ]
     },
     "execution_count": 9,
     "metadata": {},
     "output_type": "execute_result"
    }
   ],
   "source": [
    "#except continuous feature\n",
    "con_list = ['protocol_type', 'service', 'flag', 'land', 'logged_in', 'su_attempted', 'is_host_login', 'is_guest_login']\n",
    "con_train = X_train.drop(con_list, axis=1)\n",
    "\n",
    "#drop n smallest std features\n",
    "stdtrain = con_train.std(axis=0)\n",
    "std_X_train = stdtrain.to_frame()\n",
    "std_X_train.nsmallest(10, columns=0).head(10)"
   ]
  },
  {
   "cell_type": "markdown",
   "metadata": {
    "_cell_guid": "d6fcbd56-1683-4a97-97fc-fc5de423a3a5",
    "_uuid": "28970ee3fa8c613b2c065674483d0de465bffbbc"
   },
   "source": [
    " "
   ]
  },
  {
   "cell_type": "markdown",
   "metadata": {
    "_cell_guid": "89f0397c-71c3-49ab-8322-e761dd250e5c",
    "_uuid": "5f60d8d834b4c5ac67da3cf58c4a8433a3362a47"
   },
   "source": [
    "#### num_outbound_cmds  standard deviation"
   ]
  },
  {
   "cell_type": "code",
   "execution_count": 10,
   "metadata": {
    "_cell_guid": "cad79de8-8cb0-4afc-b4dc-19a63487dbfd",
    "_uuid": "b12365a86a883362a443fbbf50bb1bae05fc1831"
   },
   "outputs": [
    {
     "data": {
      "text/html": [
       "<div>\n",
       "<style>\n",
       "    .dataframe thead tr:only-child th {\n",
       "        text-align: right;\n",
       "    }\n",
       "\n",
       "    .dataframe thead th {\n",
       "        text-align: left;\n",
       "    }\n",
       "\n",
       "    .dataframe tbody tr th {\n",
       "        vertical-align: top;\n",
       "    }\n",
       "</style>\n",
       "<table border=\"1\" class=\"dataframe\">\n",
       "  <thead>\n",
       "    <tr style=\"text-align: right;\">\n",
       "      <th></th>\n",
       "      <th>duration</th>\n",
       "      <th>protocol_type</th>\n",
       "      <th>service</th>\n",
       "      <th>flag</th>\n",
       "      <th>src_bytes</th>\n",
       "      <th>dst_bytes</th>\n",
       "      <th>land</th>\n",
       "      <th>wrong_fragment</th>\n",
       "      <th>urgent</th>\n",
       "      <th>hot</th>\n",
       "      <th>...</th>\n",
       "      <th>dst_host_count</th>\n",
       "      <th>dst_host_srv_count</th>\n",
       "      <th>dst_host_same_srv_rate</th>\n",
       "      <th>dst_host_diff_srv_rate</th>\n",
       "      <th>dst_host_same_src_port_rate</th>\n",
       "      <th>dst_host_srv_diff_host_rate</th>\n",
       "      <th>dst_host_serror_rate</th>\n",
       "      <th>dst_host_srv_serror_rate</th>\n",
       "      <th>dst_host_rerror_rate</th>\n",
       "      <th>dst_host_srv_rerror_rate</th>\n",
       "    </tr>\n",
       "  </thead>\n",
       "  <tbody>\n",
       "    <tr>\n",
       "      <th>0</th>\n",
       "      <td>0</td>\n",
       "      <td>0</td>\n",
       "      <td>20</td>\n",
       "      <td>2</td>\n",
       "      <td>491</td>\n",
       "      <td>0</td>\n",
       "      <td>0</td>\n",
       "      <td>0</td>\n",
       "      <td>0</td>\n",
       "      <td>0</td>\n",
       "      <td>...</td>\n",
       "      <td>150</td>\n",
       "      <td>25</td>\n",
       "      <td>0.17</td>\n",
       "      <td>0.03</td>\n",
       "      <td>0.17</td>\n",
       "      <td>0.00</td>\n",
       "      <td>0.00</td>\n",
       "      <td>0.00</td>\n",
       "      <td>0.05</td>\n",
       "      <td>0.00</td>\n",
       "    </tr>\n",
       "    <tr>\n",
       "      <th>1</th>\n",
       "      <td>0</td>\n",
       "      <td>2</td>\n",
       "      <td>45</td>\n",
       "      <td>2</td>\n",
       "      <td>146</td>\n",
       "      <td>0</td>\n",
       "      <td>0</td>\n",
       "      <td>0</td>\n",
       "      <td>0</td>\n",
       "      <td>0</td>\n",
       "      <td>...</td>\n",
       "      <td>255</td>\n",
       "      <td>1</td>\n",
       "      <td>0.00</td>\n",
       "      <td>0.60</td>\n",
       "      <td>0.88</td>\n",
       "      <td>0.00</td>\n",
       "      <td>0.00</td>\n",
       "      <td>0.00</td>\n",
       "      <td>0.00</td>\n",
       "      <td>0.00</td>\n",
       "    </tr>\n",
       "    <tr>\n",
       "      <th>2</th>\n",
       "      <td>0</td>\n",
       "      <td>0</td>\n",
       "      <td>50</td>\n",
       "      <td>4</td>\n",
       "      <td>0</td>\n",
       "      <td>0</td>\n",
       "      <td>0</td>\n",
       "      <td>0</td>\n",
       "      <td>0</td>\n",
       "      <td>0</td>\n",
       "      <td>...</td>\n",
       "      <td>255</td>\n",
       "      <td>26</td>\n",
       "      <td>0.10</td>\n",
       "      <td>0.05</td>\n",
       "      <td>0.00</td>\n",
       "      <td>0.00</td>\n",
       "      <td>1.00</td>\n",
       "      <td>1.00</td>\n",
       "      <td>0.00</td>\n",
       "      <td>0.00</td>\n",
       "    </tr>\n",
       "    <tr>\n",
       "      <th>3</th>\n",
       "      <td>0</td>\n",
       "      <td>0</td>\n",
       "      <td>25</td>\n",
       "      <td>2</td>\n",
       "      <td>232</td>\n",
       "      <td>8153</td>\n",
       "      <td>0</td>\n",
       "      <td>0</td>\n",
       "      <td>0</td>\n",
       "      <td>0</td>\n",
       "      <td>...</td>\n",
       "      <td>30</td>\n",
       "      <td>255</td>\n",
       "      <td>1.00</td>\n",
       "      <td>0.00</td>\n",
       "      <td>0.03</td>\n",
       "      <td>0.04</td>\n",
       "      <td>0.03</td>\n",
       "      <td>0.01</td>\n",
       "      <td>0.00</td>\n",
       "      <td>0.01</td>\n",
       "    </tr>\n",
       "    <tr>\n",
       "      <th>4</th>\n",
       "      <td>0</td>\n",
       "      <td>0</td>\n",
       "      <td>25</td>\n",
       "      <td>2</td>\n",
       "      <td>199</td>\n",
       "      <td>420</td>\n",
       "      <td>0</td>\n",
       "      <td>0</td>\n",
       "      <td>0</td>\n",
       "      <td>0</td>\n",
       "      <td>...</td>\n",
       "      <td>255</td>\n",
       "      <td>255</td>\n",
       "      <td>1.00</td>\n",
       "      <td>0.00</td>\n",
       "      <td>0.00</td>\n",
       "      <td>0.00</td>\n",
       "      <td>0.00</td>\n",
       "      <td>0.00</td>\n",
       "      <td>0.00</td>\n",
       "      <td>0.00</td>\n",
       "    </tr>\n",
       "  </tbody>\n",
       "</table>\n",
       "<p>5 rows × 40 columns</p>\n",
       "</div>"
      ],
      "text/plain": [
       "   duration  protocol_type  service  flag  src_bytes  dst_bytes  land  \\\n",
       "0         0              0       20     2        491          0     0   \n",
       "1         0              2       45     2        146          0     0   \n",
       "2         0              0       50     4          0          0     0   \n",
       "3         0              0       25     2        232       8153     0   \n",
       "4         0              0       25     2        199        420     0   \n",
       "\n",
       "   wrong_fragment  urgent  hot            ...             dst_host_count  \\\n",
       "0               0       0    0            ...                        150   \n",
       "1               0       0    0            ...                        255   \n",
       "2               0       0    0            ...                        255   \n",
       "3               0       0    0            ...                         30   \n",
       "4               0       0    0            ...                        255   \n",
       "\n",
       "   dst_host_srv_count  dst_host_same_srv_rate  dst_host_diff_srv_rate  \\\n",
       "0                  25                    0.17                    0.03   \n",
       "1                   1                    0.00                    0.60   \n",
       "2                  26                    0.10                    0.05   \n",
       "3                 255                    1.00                    0.00   \n",
       "4                 255                    1.00                    0.00   \n",
       "\n",
       "   dst_host_same_src_port_rate  dst_host_srv_diff_host_rate  \\\n",
       "0                         0.17                         0.00   \n",
       "1                         0.88                         0.00   \n",
       "2                         0.00                         0.00   \n",
       "3                         0.03                         0.04   \n",
       "4                         0.00                         0.00   \n",
       "\n",
       "   dst_host_serror_rate  dst_host_srv_serror_rate  dst_host_rerror_rate  \\\n",
       "0                  0.00                      0.00                  0.05   \n",
       "1                  0.00                      0.00                  0.00   \n",
       "2                  1.00                      1.00                  0.00   \n",
       "3                  0.03                      0.01                  0.00   \n",
       "4                  0.00                      0.00                  0.00   \n",
       "\n",
       "   dst_host_srv_rerror_rate  \n",
       "0                      0.00  \n",
       "1                      0.00  \n",
       "2                      0.00  \n",
       "3                      0.01  \n",
       "4                      0.00  \n",
       "\n",
       "[5 rows x 40 columns]"
      ]
     },
     "execution_count": 10,
     "metadata": {},
     "output_type": "execute_result"
    }
   ],
   "source": [
    "X_train = X_train.drop(['num_outbound_cmds'], axis=1)\n",
    "X_test = X_test.drop(['num_outbound_cmds'], axis=1)\n",
    "\n",
    "df_train = pd.concat([X_train, Y_train], axis=1)\n",
    "df_train.head()\n",
    "\n",
    "X_train.head()"
   ]
  },
  {
   "cell_type": "markdown",
   "metadata": {
    "_cell_guid": "0ae413eb-04f4-411c-8779-63ce346e5445",
    "_uuid": "de438268e23aa121bb31424d42c00f150d7db5b5"
   },
   "source": [
    "#### std  feature  drop -> X_train_stdrop . (Ensemble feature selection )"
   ]
  },
  {
   "cell_type": "code",
   "execution_count": 11,
   "metadata": {
    "_cell_guid": "b5910eb2-a2f0-48d2-8dbe-bc79060b5723",
    "_uuid": "d354b008daa466e55e63cc75727720bb0c2e2510"
   },
   "outputs": [
    {
     "data": {
      "text/html": [
       "<div>\n",
       "<style>\n",
       "    .dataframe thead tr:only-child th {\n",
       "        text-align: right;\n",
       "    }\n",
       "\n",
       "    .dataframe thead th {\n",
       "        text-align: left;\n",
       "    }\n",
       "\n",
       "    .dataframe tbody tr th {\n",
       "        vertical-align: top;\n",
       "    }\n",
       "</style>\n",
       "<table border=\"1\" class=\"dataframe\">\n",
       "  <thead>\n",
       "    <tr style=\"text-align: right;\">\n",
       "      <th></th>\n",
       "      <th>duration</th>\n",
       "      <th>protocol_type</th>\n",
       "      <th>service</th>\n",
       "      <th>flag</th>\n",
       "      <th>src_bytes</th>\n",
       "      <th>dst_bytes</th>\n",
       "      <th>land</th>\n",
       "      <th>hot</th>\n",
       "      <th>logged_in</th>\n",
       "      <th>num_compromised</th>\n",
       "      <th>...</th>\n",
       "      <th>srv_diff_host_rate</th>\n",
       "      <th>dst_host_count</th>\n",
       "      <th>dst_host_srv_count</th>\n",
       "      <th>dst_host_same_srv_rate</th>\n",
       "      <th>dst_host_same_src_port_rate</th>\n",
       "      <th>dst_host_serror_rate</th>\n",
       "      <th>dst_host_srv_serror_rate</th>\n",
       "      <th>dst_host_rerror_rate</th>\n",
       "      <th>dst_host_srv_rerror_rate</th>\n",
       "      <th>xAttack</th>\n",
       "    </tr>\n",
       "  </thead>\n",
       "  <tbody>\n",
       "    <tr>\n",
       "      <th>0</th>\n",
       "      <td>0</td>\n",
       "      <td>0</td>\n",
       "      <td>20</td>\n",
       "      <td>2</td>\n",
       "      <td>491</td>\n",
       "      <td>0</td>\n",
       "      <td>0</td>\n",
       "      <td>0</td>\n",
       "      <td>0</td>\n",
       "      <td>0</td>\n",
       "      <td>...</td>\n",
       "      <td>0.00</td>\n",
       "      <td>150</td>\n",
       "      <td>25</td>\n",
       "      <td>0.17</td>\n",
       "      <td>0.17</td>\n",
       "      <td>0.00</td>\n",
       "      <td>0.00</td>\n",
       "      <td>0.05</td>\n",
       "      <td>0.00</td>\n",
       "      <td>1</td>\n",
       "    </tr>\n",
       "    <tr>\n",
       "      <th>1</th>\n",
       "      <td>0</td>\n",
       "      <td>2</td>\n",
       "      <td>45</td>\n",
       "      <td>2</td>\n",
       "      <td>146</td>\n",
       "      <td>0</td>\n",
       "      <td>0</td>\n",
       "      <td>0</td>\n",
       "      <td>0</td>\n",
       "      <td>0</td>\n",
       "      <td>...</td>\n",
       "      <td>0.00</td>\n",
       "      <td>255</td>\n",
       "      <td>1</td>\n",
       "      <td>0.00</td>\n",
       "      <td>0.88</td>\n",
       "      <td>0.00</td>\n",
       "      <td>0.00</td>\n",
       "      <td>0.00</td>\n",
       "      <td>0.00</td>\n",
       "      <td>1</td>\n",
       "    </tr>\n",
       "    <tr>\n",
       "      <th>2</th>\n",
       "      <td>0</td>\n",
       "      <td>0</td>\n",
       "      <td>50</td>\n",
       "      <td>4</td>\n",
       "      <td>0</td>\n",
       "      <td>0</td>\n",
       "      <td>0</td>\n",
       "      <td>0</td>\n",
       "      <td>0</td>\n",
       "      <td>0</td>\n",
       "      <td>...</td>\n",
       "      <td>0.00</td>\n",
       "      <td>255</td>\n",
       "      <td>26</td>\n",
       "      <td>0.10</td>\n",
       "      <td>0.00</td>\n",
       "      <td>1.00</td>\n",
       "      <td>1.00</td>\n",
       "      <td>0.00</td>\n",
       "      <td>0.00</td>\n",
       "      <td>0</td>\n",
       "    </tr>\n",
       "    <tr>\n",
       "      <th>3</th>\n",
       "      <td>0</td>\n",
       "      <td>0</td>\n",
       "      <td>25</td>\n",
       "      <td>2</td>\n",
       "      <td>232</td>\n",
       "      <td>8153</td>\n",
       "      <td>0</td>\n",
       "      <td>0</td>\n",
       "      <td>1</td>\n",
       "      <td>0</td>\n",
       "      <td>...</td>\n",
       "      <td>0.00</td>\n",
       "      <td>30</td>\n",
       "      <td>255</td>\n",
       "      <td>1.00</td>\n",
       "      <td>0.03</td>\n",
       "      <td>0.03</td>\n",
       "      <td>0.01</td>\n",
       "      <td>0.00</td>\n",
       "      <td>0.01</td>\n",
       "      <td>1</td>\n",
       "    </tr>\n",
       "    <tr>\n",
       "      <th>4</th>\n",
       "      <td>0</td>\n",
       "      <td>0</td>\n",
       "      <td>25</td>\n",
       "      <td>2</td>\n",
       "      <td>199</td>\n",
       "      <td>420</td>\n",
       "      <td>0</td>\n",
       "      <td>0</td>\n",
       "      <td>1</td>\n",
       "      <td>0</td>\n",
       "      <td>...</td>\n",
       "      <td>0.09</td>\n",
       "      <td>255</td>\n",
       "      <td>255</td>\n",
       "      <td>1.00</td>\n",
       "      <td>0.00</td>\n",
       "      <td>0.00</td>\n",
       "      <td>0.00</td>\n",
       "      <td>0.00</td>\n",
       "      <td>0.00</td>\n",
       "      <td>1</td>\n",
       "    </tr>\n",
       "  </tbody>\n",
       "</table>\n",
       "<p>5 rows × 32 columns</p>\n",
       "</div>"
      ],
      "text/plain": [
       "   duration  protocol_type  service  flag  src_bytes  dst_bytes  land  hot  \\\n",
       "0         0              0       20     2        491          0     0    0   \n",
       "1         0              2       45     2        146          0     0    0   \n",
       "2         0              0       50     4          0          0     0    0   \n",
       "3         0              0       25     2        232       8153     0    0   \n",
       "4         0              0       25     2        199        420     0    0   \n",
       "\n",
       "   logged_in  num_compromised   ...     srv_diff_host_rate  dst_host_count  \\\n",
       "0          0                0   ...                   0.00             150   \n",
       "1          0                0   ...                   0.00             255   \n",
       "2          0                0   ...                   0.00             255   \n",
       "3          1                0   ...                   0.00              30   \n",
       "4          1                0   ...                   0.09             255   \n",
       "\n",
       "   dst_host_srv_count  dst_host_same_srv_rate  dst_host_same_src_port_rate  \\\n",
       "0                  25                    0.17                         0.17   \n",
       "1                   1                    0.00                         0.88   \n",
       "2                  26                    0.10                         0.00   \n",
       "3                 255                    1.00                         0.03   \n",
       "4                 255                    1.00                         0.00   \n",
       "\n",
       "   dst_host_serror_rate  dst_host_srv_serror_rate  dst_host_rerror_rate  \\\n",
       "0                  0.00                      0.00                  0.05   \n",
       "1                  0.00                      0.00                  0.00   \n",
       "2                  1.00                      1.00                  0.00   \n",
       "3                  0.03                      0.01                  0.00   \n",
       "4                  0.00                      0.00                  0.00   \n",
       "\n",
       "   dst_host_srv_rerror_rate  xAttack  \n",
       "0                      0.00        1  \n",
       "1                      0.00        1  \n",
       "2                      0.00        0  \n",
       "3                      0.01        1  \n",
       "4                      0.00        1  \n",
       "\n",
       "[5 rows x 32 columns]"
      ]
     },
     "execution_count": 11,
     "metadata": {},
     "output_type": "execute_result"
    }
   ],
   "source": [
    "stdrop_list = ['urgent', 'num_shells', 'root_shell',\n",
    "        'num_failed_logins', 'num_access_files', 'dst_host_srv_diff_host_rate',\n",
    "        'diff_srv_rate', 'dst_host_diff_srv_rate', 'wrong_fragment']\n",
    "\n",
    "X_test_stdrop = X_test.drop(stdrop_list, axis=1)\n",
    "\n",
    "X_train_stdrop = X_train.drop(stdrop_list, axis=1)\n",
    "\n",
    "df_train_stdrop = pd.concat([X_train_stdrop, Y_train], axis=1)\n",
    "\n",
    "df_train_stdrop.head()"
   ]
  },
  {
   "cell_type": "markdown",
   "metadata": {
    "_cell_guid": "b3ead6de-6e65-4150-aee3-48c2237e0c89",
    "_uuid": "37852d92d7edb4ffab7e7eefd919f9862670b8a3"
   },
   "source": [
    "### Baseline - Linear regression"
   ]
  },
  {
   "cell_type": "markdown",
   "metadata": {
    "_cell_guid": "3f4204d1-84ef-438b-be32-1529d3ffa1b8",
    "_uuid": "a88236cb7fb27803dfb3b2f145e58518542b91f0"
   },
   "source": [
    "- Linear regression"
   ]
  },
  {
   "cell_type": "code",
   "execution_count": 12,
   "metadata": {
    "_cell_guid": "2bea2710-d18d-499a-aa5c-bc96caee6b4b",
    "_uuid": "d89de686669eebd8d37e161f1794e9a8676f95ad",
    "collapsed": true
   },
   "outputs": [],
   "source": [
    "from sklearn import linear_model"
   ]
  },
  {
   "cell_type": "code",
   "execution_count": 13,
   "metadata": {
    "_cell_guid": "4f3b1c0f-122b-4df0-b4a7-bfd0dde259a4",
    "_uuid": "368bcf954e102e2ea34a10f4f9d0b4816b19fef1",
    "collapsed": true
   },
   "outputs": [],
   "source": [
    "LR = linear_model.LinearRegression()"
   ]
  },
  {
   "cell_type": "code",
   "execution_count": 14,
   "metadata": {
    "_cell_guid": "e96da0f8-19c2-429c-9f73-a097a0f5de18",
    "_uuid": "7babbd4a1225e7f80ba3bac8978c330cd18551ae"
   },
   "outputs": [
    {
     "data": {
      "text/plain": [
       "LinearRegression(copy_X=True, fit_intercept=True, n_jobs=1, normalize=False)"
      ]
     },
     "execution_count": 14,
     "metadata": {},
     "output_type": "execute_result"
    }
   ],
   "source": [
    "LR.fit(X_train, Y_train)"
   ]
  },
  {
   "cell_type": "code",
   "execution_count": 15,
   "metadata": {
    "_cell_guid": "b8f0a17e-671f-476e-bd7b-6f28f96ce535",
    "_uuid": "5df91861fee8df64e9c0655e2252647e14707bac"
   },
   "outputs": [
    {
     "name": "stdout",
     "output_type": "stream",
     "text": [
      "Linear regression processing ,,,\n",
      "Linear regression Score: 0.33 %\n"
     ]
    }
   ],
   "source": [
    "lr_score = LR.score(X_test, Y_test)\n",
    "print('Linear regression processing ,,,')\n",
    "print('Linear regression Score: %.2f %%' % lr_score)"
   ]
  },
  {
   "cell_type": "markdown",
   "metadata": {
    "_cell_guid": "8200920f-d69b-487b-8e19-19a998cd22b4",
    "_uuid": "fce5178f0791e2b90cc53ec020b2ac5915a84cd9"
   },
   "source": [
    "##### linear regression 33%"
   ]
  },
  {
   "cell_type": "markdown",
   "metadata": {
    "_cell_guid": "fca47cc0-28fa-4b41-b531-a5057d7024ed",
    "_uuid": "7c7885fed49a0aba2a2851391b12160496114f86"
   },
   "source": [
    " "
   ]
  },
  {
   "cell_type": "markdown",
   "metadata": {
    "_cell_guid": "64e8bea6-8bc6-44f5-8df5-e21adb131bc3",
    "_uuid": "2ebed4ad2c428097ef11fe1a82678e631291dace"
   },
   "source": [
    "  "
   ]
  },
  {
   "cell_type": "markdown",
   "metadata": {
    "_cell_guid": "2f3b3e66-a2bf-4339-916c-fc2d36aa8893",
    "_uuid": "0ba8a51a9459b8611d2987dc7bd401bde3e17520"
   },
   "source": [
    "### 2. Ensemble feature selection\n",
    "    Ensemble Modeling feature selection(Irrelevant 한 feature)."
   ]
  },
  {
   "cell_type": "code",
   "execution_count": 16,
   "metadata": {
    "_cell_guid": "87393777-760d-46ef-953a-3907d983f5c7",
    "_uuid": "841c09d39671098d22423f7db1277a0842e4f223",
    "collapsed": true
   },
   "outputs": [],
   "source": [
    "from sklearn.ensemble import AdaBoostClassifier\n",
    "from sklearn.ensemble import RandomForestClassifier\n",
    "from sklearn.ensemble import BaggingClassifier\n",
    "from sklearn.ensemble import ExtraTreesClassifier\n",
    "from sklearn.ensemble import GradientBoostingClassifier\n",
    "\n",
    "from sklearn.tree import DecisionTreeClassifier"
   ]
  },
  {
   "cell_type": "code",
   "execution_count": 17,
   "metadata": {
    "_cell_guid": "dc0750ec-89bc-4848-92c2-bfab118cd616",
    "_uuid": "d2302e128c80fec4a89f6289464aec7574127f2f",
    "collapsed": true
   },
   "outputs": [],
   "source": [
    "AB = AdaBoostClassifier(base_estimator=DecisionTreeClassifier(), n_estimators=100, learning_rate=1.0)\n",
    "RF = RandomForestClassifier(n_estimators=10, criterion='entropy', max_features='auto', bootstrap=True)\n",
    "ET = ExtraTreesClassifier(n_estimators=10, criterion='gini', max_features='auto', bootstrap=False)\n",
    "GB = GradientBoostingClassifier(loss='deviance', learning_rate=0.1, n_estimators=200, max_features='auto')"
   ]
  },
  {
   "cell_type": "code",
   "execution_count": 18,
   "metadata": {
    "_cell_guid": "662c7500-15c9-4d64-a98d-1539e1884837",
    "_uuid": "c863818c7db7bda6bd46862a56bdd973faf7b852",
    "collapsed": true
   },
   "outputs": [],
   "source": [
    "y_train = Y_train['xAttack'].ravel()\n",
    "x_train = X_train.values\n",
    "x_test = X_test.values"
   ]
  },
  {
   "cell_type": "markdown",
   "metadata": {
    "_cell_guid": "5bf64821-e1cb-4566-bd21-47b40fe5049d",
    "_uuid": "99a62ea1400e32f8f954f8aa2d199a16c4c5e66d"
   },
   "source": [
    "### feature importances"
   ]
  },
  {
   "cell_type": "code",
   "execution_count": 19,
   "metadata": {
    "_cell_guid": "600860d2-fd41-44b5-a925-608383918cc7",
    "_uuid": "185f7b04f0d6969b7f7fd93ed791d1c07430864d"
   },
   "outputs": [
    {
     "data": {
      "text/plain": [
       "AdaBoostClassifier(algorithm='SAMME.R',\n",
       "          base_estimator=DecisionTreeClassifier(class_weight=None, criterion='gini', max_depth=None,\n",
       "            max_features=None, max_leaf_nodes=None,\n",
       "            min_impurity_decrease=0.0, min_impurity_split=None,\n",
       "            min_samples_leaf=1, min_samples_split=2,\n",
       "            min_weight_fraction_leaf=0.0, presort=False, random_state=None,\n",
       "            splitter='best'),\n",
       "          learning_rate=1.0, n_estimators=100, random_state=None)"
      ]
     },
     "execution_count": 19,
     "metadata": {},
     "output_type": "execute_result"
    }
   ],
   "source": [
    "AB.fit(X_train, Y_train)"
   ]
  },
  {
   "cell_type": "code",
   "execution_count": 20,
   "metadata": {
    "_cell_guid": "c91d81f6-ffa2-40e9-bcfc-c1e47dd7f059",
    "_uuid": "a94eba48c02912eea57bddab2911538a5eb6744c"
   },
   "outputs": [
    {
     "name": "stdout",
     "output_type": "stream",
     "text": [
      "AdaBoostClassifier processing ,,,\n",
      "AdaBoostClassifier Score: 0.761 %\n"
     ]
    }
   ],
   "source": [
    "AB_feature = AB.feature_importances_\n",
    "AB_feature\n",
    "\n",
    "ab_score = AB.score(X_test, Y_test)\n",
    "\n",
    "print('AdaBoostClassifier processing ,,,')\n",
    "print('AdaBoostClassifier Score: %.3f %%' % ab_score)"
   ]
  },
  {
   "cell_type": "code",
   "execution_count": 21,
   "metadata": {
    "_cell_guid": "a64f7edf-0090-452f-bc09-c5b10d1758e5",
    "_uuid": "92dd5f4652338ea01067bd588049c4de29b38b06"
   },
   "outputs": [
    {
     "data": {
      "text/plain": [
       "RandomForestClassifier(bootstrap=True, class_weight=None, criterion='entropy',\n",
       "            max_depth=None, max_features='auto', max_leaf_nodes=None,\n",
       "            min_impurity_decrease=0.0, min_impurity_split=None,\n",
       "            min_samples_leaf=1, min_samples_split=2,\n",
       "            min_weight_fraction_leaf=0.0, n_estimators=10, n_jobs=1,\n",
       "            oob_score=False, random_state=None, verbose=0,\n",
       "            warm_start=False)"
      ]
     },
     "execution_count": 21,
     "metadata": {},
     "output_type": "execute_result"
    }
   ],
   "source": [
    "RF.fit(X_train, Y_train)"
   ]
  },
  {
   "cell_type": "code",
   "execution_count": 22,
   "metadata": {
    "_cell_guid": "47ce98f8-4fd0-4b0f-a355-84f170ee293a",
    "_uuid": "2522e18edc1332f9383550d66ca4385f8f6254ac"
   },
   "outputs": [
    {
     "name": "stdout",
     "output_type": "stream",
     "text": [
      "RandomForestClassifier processing ,,,\n",
      "RandomForestClassifier Score: 0.755 %\n"
     ]
    }
   ],
   "source": [
    "RF_feature = RF.feature_importances_\n",
    "RF_feature\n",
    "\n",
    "rf_score = RF.score(X_test, Y_test)\n",
    "\n",
    "print('RandomForestClassifier processing ,,,')\n",
    "print('RandomForestClassifier Score: %.3f %%' % rf_score)"
   ]
  },
  {
   "cell_type": "code",
   "execution_count": 23,
   "metadata": {
    "_cell_guid": "6afa8afd-9e8b-443d-aa04-ee9e46a61026",
    "_uuid": "66d759d3d00af2e028306a832ef2b65a3b92ae97"
   },
   "outputs": [
    {
     "data": {
      "text/plain": [
       "ExtraTreesClassifier(bootstrap=False, class_weight=None, criterion='gini',\n",
       "           max_depth=None, max_features='auto', max_leaf_nodes=None,\n",
       "           min_impurity_decrease=0.0, min_impurity_split=None,\n",
       "           min_samples_leaf=1, min_samples_split=2,\n",
       "           min_weight_fraction_leaf=0.0, n_estimators=10, n_jobs=1,\n",
       "           oob_score=False, random_state=None, verbose=0, warm_start=False)"
      ]
     },
     "execution_count": 23,
     "metadata": {},
     "output_type": "execute_result"
    }
   ],
   "source": [
    "ET.fit(X_train, Y_train)"
   ]
  },
  {
   "cell_type": "code",
   "execution_count": 24,
   "metadata": {
    "_cell_guid": "9453484a-3364-4674-91ad-007cbcae9a82",
    "_uuid": "8bd2d89127cf14f1b2f7cfef20e9d7c0154d9c08"
   },
   "outputs": [
    {
     "name": "stdout",
     "output_type": "stream",
     "text": [
      "ExtraTreesClassifier processing ,,,\n",
      "ExtraTreeClassifier: 0.752 %\n"
     ]
    }
   ],
   "source": [
    "ET_feature = ET.feature_importances_\n",
    "ET_feature\n",
    "\n",
    "et_score = ET.score(X_test, Y_test)\n",
    "\n",
    "print('ExtraTreesClassifier processing ,,,')\n",
    "print('ExtraTreeClassifier: %.3f %%' % et_score)"
   ]
  },
  {
   "cell_type": "code",
   "execution_count": 25,
   "metadata": {
    "_cell_guid": "7807d34a-9a2a-4d83-8685-d90c893c06a2",
    "_uuid": "96410fef5c90a6d2a23154e588bf1b81d362e816"
   },
   "outputs": [
    {
     "data": {
      "text/plain": [
       "GradientBoostingClassifier(criterion='friedman_mse', init=None,\n",
       "              learning_rate=0.1, loss='deviance', max_depth=3,\n",
       "              max_features='auto', max_leaf_nodes=None,\n",
       "              min_impurity_decrease=0.0, min_impurity_split=None,\n",
       "              min_samples_leaf=1, min_samples_split=2,\n",
       "              min_weight_fraction_leaf=0.0, n_estimators=200,\n",
       "              presort='auto', random_state=None, subsample=1.0, verbose=0,\n",
       "              warm_start=False)"
      ]
     },
     "execution_count": 25,
     "metadata": {},
     "output_type": "execute_result"
    }
   ],
   "source": [
    "GB.fit(X_train, Y_train)"
   ]
  },
  {
   "cell_type": "code",
   "execution_count": 26,
   "metadata": {
    "_cell_guid": "89511522-d2b9-4bed-ba12-163f4b9aae1f",
    "_uuid": "1db270130b8d0a6ccf918ffd4c2857ff85e3a144"
   },
   "outputs": [
    {
     "name": "stdout",
     "output_type": "stream",
     "text": [
      "GradientBoostingClassifier processing ,,,\n",
      "GradientBoostingClassifier Score: 0.763 %\n"
     ]
    }
   ],
   "source": [
    "GB_feature = GB.feature_importances_\n",
    "GB_feature\n",
    "\n",
    "gb_score = GB.score(X_test, Y_test)\n",
    "\n",
    "print('GradientBoostingClassifier processing ,,,')\n",
    "print('GradientBoostingClassifier Score: %.3f %%' % gb_score)"
   ]
  },
  {
   "cell_type": "markdown",
   "metadata": {
    "_cell_guid": "ba855d1d-6ec7-41fd-8be0-273dabf7d97d",
    "_uuid": "e4d1ca5200a2f5c2fda8d0498d1a7b29b6750fb4"
   },
   "source": [
    " "
   ]
  },
  {
   "cell_type": "markdown",
   "metadata": {
    "_cell_guid": "967900a5-7fb5-45c5-b80c-c22be7ae7779",
    "_uuid": "9ab6285272ed790dad07e88643e6b64d8fbf1b8b"
   },
   "source": [
    " "
   ]
  },
  {
   "cell_type": "markdown",
   "metadata": {
    "_cell_guid": "38dafed5-3f47-4dcc-ab97-7d3faff4a631",
    "_uuid": "4b25db45c88fc8927c1dbe753f0515095da51a0f"
   },
   "source": [
    "###Ensemble feature"
   ]
  },
  {
   "cell_type": "code",
   "execution_count": 27,
   "metadata": {
    "_cell_guid": "c06af718-3e5a-4439-9808-0eb0a9fa0c74",
    "_uuid": "3013e38f34f0671d6a9dee1041f566eec6abf989"
   },
   "outputs": [
    {
     "data": {
      "text/html": [
       "<div>\n",
       "<style>\n",
       "    .dataframe thead tr:only-child th {\n",
       "        text-align: right;\n",
       "    }\n",
       "\n",
       "    .dataframe thead th {\n",
       "        text-align: left;\n",
       "    }\n",
       "\n",
       "    .dataframe tbody tr th {\n",
       "        vertical-align: top;\n",
       "    }\n",
       "</style>\n",
       "<table border=\"1\" class=\"dataframe\">\n",
       "  <thead>\n",
       "    <tr style=\"text-align: right;\">\n",
       "      <th></th>\n",
       "      <th>AdaBoost</th>\n",
       "      <th>ExtraTree</th>\n",
       "      <th>GradientBoost</th>\n",
       "      <th>RandomForest</th>\n",
       "      <th>features</th>\n",
       "    </tr>\n",
       "  </thead>\n",
       "  <tbody>\n",
       "    <tr>\n",
       "      <th>0</th>\n",
       "      <td>0.002322</td>\n",
       "      <td>0.003797</td>\n",
       "      <td>0.054953</td>\n",
       "      <td>0.003241</td>\n",
       "      <td>duration</td>\n",
       "    </tr>\n",
       "    <tr>\n",
       "      <th>1</th>\n",
       "      <td>NaN</td>\n",
       "      <td>0.045392</td>\n",
       "      <td>0.038749</td>\n",
       "      <td>0.019766</td>\n",
       "      <td>protocol_type</td>\n",
       "    </tr>\n",
       "    <tr>\n",
       "      <th>2</th>\n",
       "      <td>NaN</td>\n",
       "      <td>0.024527</td>\n",
       "      <td>0.050721</td>\n",
       "      <td>0.034977</td>\n",
       "      <td>service</td>\n",
       "    </tr>\n",
       "    <tr>\n",
       "      <th>3</th>\n",
       "      <td>0.000490</td>\n",
       "      <td>0.049257</td>\n",
       "      <td>0.017423</td>\n",
       "      <td>0.010574</td>\n",
       "      <td>flag</td>\n",
       "    </tr>\n",
       "    <tr>\n",
       "      <th>4</th>\n",
       "      <td>NaN</td>\n",
       "      <td>0.027261</td>\n",
       "      <td>0.215598</td>\n",
       "      <td>0.085649</td>\n",
       "      <td>src_bytes</td>\n",
       "    </tr>\n",
       "    <tr>\n",
       "      <th>5</th>\n",
       "      <td>0.005035</td>\n",
       "      <td>0.005703</td>\n",
       "      <td>0.066595</td>\n",
       "      <td>0.061388</td>\n",
       "      <td>dst_bytes</td>\n",
       "    </tr>\n",
       "    <tr>\n",
       "      <th>6</th>\n",
       "      <td>0.000021</td>\n",
       "      <td>0.000049</td>\n",
       "      <td>0.012490</td>\n",
       "      <td>0.000030</td>\n",
       "      <td>land</td>\n",
       "    </tr>\n",
       "    <tr>\n",
       "      <th>7</th>\n",
       "      <td>0.000231</td>\n",
       "      <td>0.012109</td>\n",
       "      <td>0.013929</td>\n",
       "      <td>0.007835</td>\n",
       "      <td>wrong_fragment</td>\n",
       "    </tr>\n",
       "  </tbody>\n",
       "</table>\n",
       "</div>"
      ],
      "text/plain": [
       "   AdaBoost  ExtraTree  GradientBoost  RandomForest        features\n",
       "0  0.002322   0.003797       0.054953      0.003241        duration\n",
       "1       NaN   0.045392       0.038749      0.019766   protocol_type\n",
       "2       NaN   0.024527       0.050721      0.034977         service\n",
       "3  0.000490   0.049257       0.017423      0.010574            flag\n",
       "4       NaN   0.027261       0.215598      0.085649       src_bytes\n",
       "5  0.005035   0.005703       0.066595      0.061388       dst_bytes\n",
       "6  0.000021   0.000049       0.012490      0.000030            land\n",
       "7  0.000231   0.012109       0.013929      0.007835  wrong_fragment"
      ]
     },
     "execution_count": 27,
     "metadata": {},
     "output_type": "execute_result"
    }
   ],
   "source": [
    "cols = X_train.columns.values\n",
    "\n",
    "feature_df = pd.DataFrame({'features': cols,\n",
    "                           'AdaBoost' : AB_feature,\n",
    "                           'RandomForest' : RF_feature,\n",
    "                           'ExtraTree' : ET_feature,\n",
    "                           'GradientBoost' : GB_feature\n",
    "                          })\n",
    "feature_df.head(8)"
   ]
  },
  {
   "cell_type": "markdown",
   "metadata": {
    "_cell_guid": "a673d858-c84f-4d65-b21a-ecdbfb0242e7",
    "_uuid": "36c2ba8b67a39e470f8d65efe09a305115b56969"
   },
   "source": [
    "- Feature Engineering"
   ]
  },
  {
   "cell_type": "code",
   "execution_count": 28,
   "metadata": {
    "_cell_guid": "b85a5513-dae3-4bc2-8b78-9f8e6661c69f",
    "_uuid": "b5528668f63a93dc5469c218a88dff22bba4a4db"
   },
   "outputs": [
    {
     "data": {
      "text/plain": [
       "[Text(0,0,'duration'),\n",
       " Text(0,0,'protocol_type'),\n",
       " Text(0,0,'service'),\n",
       " Text(0,0,'flag'),\n",
       " Text(0,0,'src_bytes'),\n",
       " Text(0,0,'dst_bytes'),\n",
       " Text(0,0,'land'),\n",
       " Text(0,0,'wrong_fragment'),\n",
       " Text(0,0,'urgent'),\n",
       " Text(0,0,'hot'),\n",
       " Text(0,0,'num_failed_logins'),\n",
       " Text(0,0,'logged_in'),\n",
       " Text(0,0,'num_compromised'),\n",
       " Text(0,0,'root_shell'),\n",
       " Text(0,0,'su_attempted'),\n",
       " Text(0,0,'num_root'),\n",
       " Text(0,0,'num_file_creations'),\n",
       " Text(0,0,'num_shells'),\n",
       " Text(0,0,'num_access_files'),\n",
       " Text(0,0,'is_host_login'),\n",
       " Text(0,0,'is_guest_login'),\n",
       " Text(0,0,'count'),\n",
       " Text(0,0,'srv_count'),\n",
       " Text(0,0,'serror_rate'),\n",
       " Text(0,0,'srv_serror_rate'),\n",
       " Text(0,0,'rerror_rate'),\n",
       " Text(0,0,'srv_rerror_rate'),\n",
       " Text(0,0,'same_srv_rate'),\n",
       " Text(0,0,'diff_srv_rate'),\n",
       " Text(0,0,'srv_diff_host_rate'),\n",
       " Text(0,0,'dst_host_count'),\n",
       " Text(0,0,'dst_host_srv_count'),\n",
       " Text(0,0,'dst_host_same_srv_rate'),\n",
       " Text(0,0,'dst_host_diff_srv_rate'),\n",
       " Text(0,0,'dst_host_same_src_port_rate'),\n",
       " Text(0,0,'dst_host_srv_diff_host_rate'),\n",
       " Text(0,0,'dst_host_serror_rate'),\n",
       " Text(0,0,'dst_host_srv_serror_rate'),\n",
       " Text(0,0,'dst_host_rerror_rate'),\n",
       " Text(0,0,'dst_host_srv_rerror_rate')]"
      ]
     },
     "execution_count": 28,
     "metadata": {},
     "output_type": "execute_result"
    },
    {
     "data": {
      "image/png": "[encoded data removed]",
      "text/plain": [
       "<matplotlib.figure.Figure at 0x7f14552ac198>"
      ]
     },
     "metadata": {},
     "output_type": "display_data"
    }
   ],
   "source": [
    "from matplotlib.ticker import MaxNLocator\n",
    "from collections import namedtuple\n",
    "\n",
    "graph = feature_df.plot.bar(figsize = (18, 10), title = 'Feature distribution', grid=True, legend=True, fontsize = 15, \n",
    "                            xticks=feature_df.index)\n",
    "graph.set_xticklabels(feature_df.features, rotation = 80)"
   ]
  },
  {
   "cell_type": "markdown",
   "metadata": {
    "_cell_guid": "abec513b-02cb-4d07-874e-12765db13f98",
    "_uuid": "3c472cd98a2601e78546275d5e18c9dfdd27c2a9"
   },
   "source": [
    "#### Ensemble model feature"
   ]
  },
  {
   "cell_type": "code",
   "execution_count": 29,
   "metadata": {
    "_cell_guid": "2b861c0c-454e-4f85-b7db-a56fa8a9f4aa",
    "_uuid": "38b3e44e8794957e441561b28e9dda2e669501d5",
    "collapsed": true
   },
   "outputs": [],
   "source": [
    "a_f = feature_df.nlargest(12, 'AdaBoost')\n",
    "e_f = feature_df.nlargest(12, 'ExtraTree')\n",
    "g_f = feature_df.nlargest(12, 'GradientBoost')\n",
    "r_f = feature_df.nlargest(12, 'RandomForest')"
   ]
  },
  {
   "cell_type": "markdown",
   "metadata": {
    "_cell_guid": "d7fb1398-b03f-4b02-8186-60c58db2f9c4",
    "_uuid": "dfe107880c4b18d82062a6d068fdd5d40ec2cb81"
   },
   "source": [
    "duplicate"
   ]
  },
  {
   "cell_type": "code",
   "execution_count": 30,
   "metadata": {
    "_cell_guid": "9f203942-69bc-4af3-a607-c69a91f67a61",
    "_uuid": "25b3b9f96cd8dd0e3e5d1762136e922c2b5623ae",
    "scrolled": false
   },
   "outputs": [
    {
     "data": {
      "text/html": [
       "<div>\n",
       "<style>\n",
       "    .dataframe thead tr:only-child th {\n",
       "        text-align: right;\n",
       "    }\n",
       "\n",
       "    .dataframe thead th {\n",
       "        text-align: left;\n",
       "    }\n",
       "\n",
       "    .dataframe tbody tr th {\n",
       "        vertical-align: top;\n",
       "    }\n",
       "</style>\n",
       "<table border=\"1\" class=\"dataframe\">\n",
       "  <thead>\n",
       "    <tr style=\"text-align: right;\">\n",
       "      <th></th>\n",
       "      <th>AdaBoost</th>\n",
       "      <th>ExtraTree</th>\n",
       "      <th>GradientBoost</th>\n",
       "      <th>RandomForest</th>\n",
       "      <th>features</th>\n",
       "    </tr>\n",
       "  </thead>\n",
       "  <tbody>\n",
       "    <tr>\n",
       "      <th>32</th>\n",
       "      <td>0.289132</td>\n",
       "      <td>0.015210</td>\n",
       "      <td>0.030964</td>\n",
       "      <td>0.052747</td>\n",
       "      <td>dst_host_same_srv_rate</td>\n",
       "    </tr>\n",
       "    <tr>\n",
       "      <th>34</th>\n",
       "      <td>0.202874</td>\n",
       "      <td>0.038725</td>\n",
       "      <td>0.038379</td>\n",
       "      <td>0.054923</td>\n",
       "      <td>dst_host_same_src_port_rate</td>\n",
       "    </tr>\n",
       "    <tr>\n",
       "      <th>27</th>\n",
       "      <td>0.007645</td>\n",
       "      <td>0.190512</td>\n",
       "      <td>0.014083</td>\n",
       "      <td>0.122075</td>\n",
       "      <td>same_srv_rate</td>\n",
       "    </tr>\n",
       "    <tr>\n",
       "      <th>5</th>\n",
       "      <td>0.005035</td>\n",
       "      <td>0.005703</td>\n",
       "      <td>0.066595</td>\n",
       "      <td>0.061388</td>\n",
       "      <td>dst_bytes</td>\n",
       "    </tr>\n",
       "    <tr>\n",
       "      <th>28</th>\n",
       "      <td>0.004399</td>\n",
       "      <td>0.014711</td>\n",
       "      <td>0.009482</td>\n",
       "      <td>0.069354</td>\n",
       "      <td>diff_srv_rate</td>\n",
       "    </tr>\n",
       "    <tr>\n",
       "      <th>36</th>\n",
       "      <td>0.003473</td>\n",
       "      <td>0.041654</td>\n",
       "      <td>0.024251</td>\n",
       "      <td>0.012781</td>\n",
       "      <td>dst_host_serror_rate</td>\n",
       "    </tr>\n",
       "    <tr>\n",
       "      <th>0</th>\n",
       "      <td>0.002322</td>\n",
       "      <td>0.003797</td>\n",
       "      <td>0.054953</td>\n",
       "      <td>0.003241</td>\n",
       "      <td>duration</td>\n",
       "    </tr>\n",
       "    <tr>\n",
       "      <th>25</th>\n",
       "      <td>0.001336</td>\n",
       "      <td>0.029120</td>\n",
       "      <td>0.004395</td>\n",
       "      <td>0.014879</td>\n",
       "      <td>rerror_rate</td>\n",
       "    </tr>\n",
       "    <tr>\n",
       "      <th>11</th>\n",
       "      <td>0.001223</td>\n",
       "      <td>0.091332</td>\n",
       "      <td>0.013688</td>\n",
       "      <td>0.085204</td>\n",
       "      <td>logged_in</td>\n",
       "    </tr>\n",
       "    <tr>\n",
       "      <th>38</th>\n",
       "      <td>0.000763</td>\n",
       "      <td>0.026282</td>\n",
       "      <td>0.025715</td>\n",
       "      <td>0.016794</td>\n",
       "      <td>dst_host_rerror_rate</td>\n",
       "    </tr>\n",
       "    <tr>\n",
       "      <th>9</th>\n",
       "      <td>0.000599</td>\n",
       "      <td>0.007695</td>\n",
       "      <td>0.026346</td>\n",
       "      <td>0.010936</td>\n",
       "      <td>hot</td>\n",
       "    </tr>\n",
       "    <tr>\n",
       "      <th>10</th>\n",
       "      <td>0.000546</td>\n",
       "      <td>0.000392</td>\n",
       "      <td>0.016269</td>\n",
       "      <td>0.000263</td>\n",
       "      <td>num_failed_logins</td>\n",
       "    </tr>\n",
       "    <tr>\n",
       "      <th>24</th>\n",
       "      <td>0.000015</td>\n",
       "      <td>0.097373</td>\n",
       "      <td>0.003000</td>\n",
       "      <td>0.045620</td>\n",
       "      <td>srv_serror_rate</td>\n",
       "    </tr>\n",
       "    <tr>\n",
       "      <th>37</th>\n",
       "      <td>0.000473</td>\n",
       "      <td>0.052859</td>\n",
       "      <td>0.021499</td>\n",
       "      <td>0.041461</td>\n",
       "      <td>dst_host_srv_serror_rate</td>\n",
       "    </tr>\n",
       "    <tr>\n",
       "      <th>3</th>\n",
       "      <td>0.000490</td>\n",
       "      <td>0.049257</td>\n",
       "      <td>0.017423</td>\n",
       "      <td>0.010574</td>\n",
       "      <td>flag</td>\n",
       "    </tr>\n",
       "    <tr>\n",
       "      <th>1</th>\n",
       "      <td>NaN</td>\n",
       "      <td>0.045392</td>\n",
       "      <td>0.038749</td>\n",
       "      <td>0.019766</td>\n",
       "      <td>protocol_type</td>\n",
       "    </tr>\n",
       "    <tr>\n",
       "      <th>39</th>\n",
       "      <td>0.000053</td>\n",
       "      <td>0.036375</td>\n",
       "      <td>0.009427</td>\n",
       "      <td>0.006268</td>\n",
       "      <td>dst_host_srv_rerror_rate</td>\n",
       "    </tr>\n",
       "    <tr>\n",
       "      <th>33</th>\n",
       "      <td>NaN</td>\n",
       "      <td>0.034856</td>\n",
       "      <td>0.036457</td>\n",
       "      <td>0.030361</td>\n",
       "      <td>dst_host_diff_srv_rate</td>\n",
       "    </tr>\n",
       "    <tr>\n",
       "      <th>35</th>\n",
       "      <td>NaN</td>\n",
       "      <td>0.033784</td>\n",
       "      <td>0.024078</td>\n",
       "      <td>0.029313</td>\n",
       "      <td>dst_host_srv_diff_host_rate</td>\n",
       "    </tr>\n",
       "    <tr>\n",
       "      <th>23</th>\n",
       "      <td>0.000033</td>\n",
       "      <td>0.032040</td>\n",
       "      <td>0.011816</td>\n",
       "      <td>0.032003</td>\n",
       "      <td>serror_rate</td>\n",
       "    </tr>\n",
       "    <tr>\n",
       "      <th>4</th>\n",
       "      <td>NaN</td>\n",
       "      <td>0.027261</td>\n",
       "      <td>0.215598</td>\n",
       "      <td>0.085649</td>\n",
       "      <td>src_bytes</td>\n",
       "    </tr>\n",
       "    <tr>\n",
       "      <th>2</th>\n",
       "      <td>NaN</td>\n",
       "      <td>0.024527</td>\n",
       "      <td>0.050721</td>\n",
       "      <td>0.034977</td>\n",
       "      <td>service</td>\n",
       "    </tr>\n",
       "    <tr>\n",
       "      <th>30</th>\n",
       "      <td>NaN</td>\n",
       "      <td>0.009618</td>\n",
       "      <td>0.041077</td>\n",
       "      <td>0.023611</td>\n",
       "      <td>dst_host_count</td>\n",
       "    </tr>\n",
       "    <tr>\n",
       "      <th>31</th>\n",
       "      <td>NaN</td>\n",
       "      <td>0.020889</td>\n",
       "      <td>0.032626</td>\n",
       "      <td>0.022520</td>\n",
       "      <td>dst_host_srv_count</td>\n",
       "    </tr>\n",
       "    <tr>\n",
       "      <th>21</th>\n",
       "      <td>NaN</td>\n",
       "      <td>0.011369</td>\n",
       "      <td>0.019199</td>\n",
       "      <td>0.072398</td>\n",
       "      <td>count</td>\n",
       "    </tr>\n",
       "  </tbody>\n",
       "</table>\n",
       "</div>"
      ],
      "text/plain": [
       "    AdaBoost  ExtraTree  GradientBoost  RandomForest  \\\n",
       "32  0.289132   0.015210       0.030964      0.052747   \n",
       "34  0.202874   0.038725       0.038379      0.054923   \n",
       "27  0.007645   0.190512       0.014083      0.122075   \n",
       "5   0.005035   0.005703       0.066595      0.061388   \n",
       "28  0.004399   0.014711       0.009482      0.069354   \n",
       "36  0.003473   0.041654       0.024251      0.012781   \n",
       "0   0.002322   0.003797       0.054953      0.003241   \n",
       "25  0.001336   0.029120       0.004395      0.014879   \n",
       "11  0.001223   0.091332       0.013688      0.085204   \n",
       "38  0.000763   0.026282       0.025715      0.016794   \n",
       "9   0.000599   0.007695       0.026346      0.010936   \n",
       "10  0.000546   0.000392       0.016269      0.000263   \n",
       "24  0.000015   0.097373       0.003000      0.045620   \n",
       "37  0.000473   0.052859       0.021499      0.041461   \n",
       "3   0.000490   0.049257       0.017423      0.010574   \n",
       "1        NaN   0.045392       0.038749      0.019766   \n",
       "39  0.000053   0.036375       0.009427      0.006268   \n",
       "33       NaN   0.034856       0.036457      0.030361   \n",
       "35       NaN   0.033784       0.024078      0.029313   \n",
       "23  0.000033   0.032040       0.011816      0.032003   \n",
       "4        NaN   0.027261       0.215598      0.085649   \n",
       "2        NaN   0.024527       0.050721      0.034977   \n",
       "30       NaN   0.009618       0.041077      0.023611   \n",
       "31       NaN   0.020889       0.032626      0.022520   \n",
       "21       NaN   0.011369       0.019199      0.072398   \n",
       "\n",
       "                       features  \n",
       "32       dst_host_same_srv_rate  \n",
       "34  dst_host_same_src_port_rate  \n",
       "27                same_srv_rate  \n",
       "5                     dst_bytes  \n",
       "28                diff_srv_rate  \n",
       "36         dst_host_serror_rate  \n",
       "0                      duration  \n",
       "25                  rerror_rate  \n",
       "11                    logged_in  \n",
       "38         dst_host_rerror_rate  \n",
       "9                           hot  \n",
       "10            num_failed_logins  \n",
       "24              srv_serror_rate  \n",
       "37     dst_host_srv_serror_rate  \n",
       "3                          flag  \n",
       "1                 protocol_type  \n",
       "39     dst_host_srv_rerror_rate  \n",
       "33       dst_host_diff_srv_rate  \n",
       "35  dst_host_srv_diff_host_rate  \n",
       "23                  serror_rate  \n",
       "4                     src_bytes  \n",
       "2                       service  \n",
       "30               dst_host_count  \n",
       "31           dst_host_srv_count  \n",
       "21                        count  "
      ]
     },
     "execution_count": 30,
     "metadata": {},
     "output_type": "execute_result"
    }
   ],
   "source": [
    "result = pd.concat([a_f, e_f, g_f, r_f])\n",
    "result = result.drop_duplicates() # duplicate feature삭제\n",
    "result"
   ]
  },
  {
   "cell_type": "code",
   "execution_count": 31,
   "metadata": {
    "_cell_guid": "a6e3bfba-4dba-43fa-b364-07a9378377da",
    "_uuid": "5dc58fd0a44b69a5b54e3a58a0a738bdb87bdda2",
    "scrolled": false
   },
   "outputs": [
    {
     "data": {
      "text/plain": [
       "['dst_host_same_srv_rate',\n",
       " 'dst_host_same_src_port_rate',\n",
       " 'same_srv_rate',\n",
       " 'dst_bytes',\n",
       " 'diff_srv_rate',\n",
       " 'dst_host_serror_rate',\n",
       " 'duration',\n",
       " 'rerror_rate',\n",
       " 'logged_in',\n",
       " 'dst_host_rerror_rate',\n",
       " 'hot',\n",
       " 'num_failed_logins',\n",
       " 'srv_serror_rate',\n",
       " 'dst_host_srv_serror_rate',\n",
       " 'flag',\n",
       " 'protocol_type',\n",
       " 'dst_host_srv_rerror_rate',\n",
       " 'dst_host_diff_srv_rate',\n",
       " 'dst_host_srv_diff_host_rate',\n",
       " 'serror_rate',\n",
       " 'src_bytes',\n",
       " 'service',\n",
       " 'dst_host_count',\n",
       " 'dst_host_srv_count',\n",
       " 'count']"
      ]
     },
     "execution_count": 31,
     "metadata": {},
     "output_type": "execute_result"
    }
   ],
   "source": [
    "selected_features = result['features'].values.tolist()\n",
    "selected_features"
   ]
  },
  {
   "cell_type": "markdown",
   "metadata": {
    "_cell_guid": "c9b2ed2b-06cd-4b08-822d-50c9828e0078",
    "_uuid": "e25e9879435421a072ab3d510c191dd9ba51f98a"
   },
   "source": [
    "  "
   ]
  },
  {
   "cell_type": "markdown",
   "metadata": {
    "_cell_guid": "df1163df-e894-4d97-953b-3fd4bd6e5042",
    "_uuid": "ff264ffff9eee58536f79b11ad9fb360b9851b07"
   },
   "source": [
    "\n",
    "\n"
   ]
  },
  {
   "cell_type": "markdown",
   "metadata": {
    "_cell_guid": "643b3d53-660b-4381-8075-bece770d15ac",
    "_uuid": "485a0247c1ce3e1c754dfe1287beea3d8bb34c55"
   },
   "source": [
    "###  standard deviation feature training"
   ]
  },
  {
   "cell_type": "code",
   "execution_count": 32,
   "metadata": {
    "_cell_guid": "5b7a01d5-9560-468c-a31f-8dd70aeeac11",
    "_uuid": "5896caa58b65ddd20e7140a707e0b26a508f7a69"
   },
   "outputs": [
    {
     "data": {
      "text/plain": [
       "AdaBoostClassifier(algorithm='SAMME.R',\n",
       "          base_estimator=DecisionTreeClassifier(class_weight=None, criterion='gini', max_depth=None,\n",
       "            max_features=None, max_leaf_nodes=None,\n",
       "            min_impurity_decrease=0.0, min_impurity_split=None,\n",
       "            min_samples_leaf=1, min_samples_split=2,\n",
       "            min_weight_fraction_leaf=0.0, presort=False, random_state=None,\n",
       "            splitter='best'),\n",
       "          learning_rate=1.0, n_estimators=100, random_state=None)"
      ]
     },
     "execution_count": 32,
     "metadata": {},
     "output_type": "execute_result"
    }
   ],
   "source": [
    "AB.fit(X_train_stdrop, Y_train)"
   ]
  },
  {
   "cell_type": "code",
   "execution_count": 33,
   "metadata": {
    "_cell_guid": "47adb753-5d6d-4d14-a4e3-36112a56b125",
    "_uuid": "447a55f24b34603b0e29fafa5cd0fc34e0f54f96"
   },
   "outputs": [
    {
     "name": "stdout",
     "output_type": "stream",
     "text": [
      "AdaBoostClassifier_stdrop processing ,,,\n",
      "AdaBoostClasifier Score: 0.761 %\n"
     ]
    }
   ],
   "source": [
    "ab2_score = AB.score(X_test_stdrop, Y_test)\n",
    "\n",
    "print('AdaBoostClassifier_stdrop processing ,,,')\n",
    "print('AdaBoostClasifier Score: %.3f %%' % ab2_score)"
   ]
  },
  {
   "cell_type": "code",
   "execution_count": 34,
   "metadata": {
    "_cell_guid": "b7b2d4bc-d577-48f9-aca7-f65d37fa006a",
    "_uuid": "a0f73db1d1d23e920c0120986168e166adbf9495"
   },
   "outputs": [
    {
     "data": {
      "text/plain": [
       "RandomForestClassifier(bootstrap=True, class_weight=None, criterion='entropy',\n",
       "            max_depth=None, max_features='auto', max_leaf_nodes=None,\n",
       "            min_impurity_decrease=0.0, min_impurity_split=None,\n",
       "            min_samples_leaf=1, min_samples_split=2,\n",
       "            min_weight_fraction_leaf=0.0, n_estimators=10, n_jobs=1,\n",
       "            oob_score=False, random_state=None, verbose=0,\n",
       "            warm_start=False)"
      ]
     },
     "execution_count": 34,
     "metadata": {},
     "output_type": "execute_result"
    }
   ],
   "source": [
    "RF.fit(X_train_stdrop, Y_train)"
   ]
  },
  {
   "cell_type": "code",
   "execution_count": 35,
   "metadata": {
    "_cell_guid": "fbf43d5c-5668-45d1-a664-20bcc64f197f",
    "_uuid": "67259e4de30174ad21b5d41214b5882dad691746"
   },
   "outputs": [
    {
     "name": "stdout",
     "output_type": "stream",
     "text": [
      "RandomForestClassifier_stdrop processing ,,,\n",
      "RandomForestClassifier Score: 0.754 %\n"
     ]
    }
   ],
   "source": [
    "rf2_score = RF.score(X_test_stdrop, Y_test)\n",
    "\n",
    "print('RandomForestClassifier_stdrop processing ,,,')\n",
    "print('RandomForestClassifier Score: %.3f %%' % rf2_score)"
   ]
  },
  {
   "cell_type": "code",
   "execution_count": 36,
   "metadata": {
    "_cell_guid": "d3cc1b5e-c80a-4839-a543-f40377a3f897",
    "_uuid": "c00ac7456975a9af2bd7e11c6daadb05121a6a3c"
   },
   "outputs": [
    {
     "data": {
      "text/plain": [
       "ExtraTreesClassifier(bootstrap=False, class_weight=None, criterion='gini',\n",
       "           max_depth=None, max_features='auto', max_leaf_nodes=None,\n",
       "           min_impurity_decrease=0.0, min_impurity_split=None,\n",
       "           min_samples_leaf=1, min_samples_split=2,\n",
       "           min_weight_fraction_leaf=0.0, n_estimators=10, n_jobs=1,\n",
       "           oob_score=False, random_state=None, verbose=0, warm_start=False)"
      ]
     },
     "execution_count": 36,
     "metadata": {},
     "output_type": "execute_result"
    }
   ],
   "source": [
    "ET.fit(X_train_stdrop, Y_train)"
   ]
  },
  {
   "cell_type": "code",
   "execution_count": 37,
   "metadata": {
    "_cell_guid": "b8c50fbd-2f13-4da0-b729-77ee986a0aec",
    "_uuid": "686b33dbf7c1c0558ac090cecb63321243a096a1"
   },
   "outputs": [
    {
     "name": "stdout",
     "output_type": "stream",
     "text": [
      "ExtraTreesClassifier_stdrop processing ,,,\n",
      "ExtraTreesClassifier Score: 0.753 %\n"
     ]
    }
   ],
   "source": [
    "et2_score = ET.score(X_test_stdrop, Y_test)\n",
    "\n",
    "print('ExtraTreesClassifier_stdrop processing ,,,')\n",
    "print('ExtraTreesClassifier Score: %.3f %%' % et2_score)"
   ]
  },
  {
   "cell_type": "code",
   "execution_count": 38,
   "metadata": {
    "_cell_guid": "d34879e9-deb8-42c9-8c20-878af09fedbf",
    "_uuid": "1c1e152c42ee8151a46786f444a810b8a5c1dc8f"
   },
   "outputs": [
    {
     "data": {
      "text/plain": [
       "GradientBoostingClassifier(criterion='friedman_mse', init=None,\n",
       "              learning_rate=0.1, loss='deviance', max_depth=3,\n",
       "              max_features='auto', max_leaf_nodes=None,\n",
       "              min_impurity_decrease=0.0, min_impurity_split=None,\n",
       "              min_samples_leaf=1, min_samples_split=2,\n",
       "              min_weight_fraction_leaf=0.0, n_estimators=200,\n",
       "              presort='auto', random_state=None, subsample=1.0, verbose=0,\n",
       "              warm_start=False)"
      ]
     },
     "execution_count": 38,
     "metadata": {},
     "output_type": "execute_result"
    }
   ],
   "source": [
    "GB.fit(X_train_stdrop, Y_train)"
   ]
  },
  {
   "cell_type": "code",
   "execution_count": 39,
   "metadata": {
    "_cell_guid": "d7e775f9-23ab-4b20-90fb-727d2b9a3cf5",
    "_uuid": "7055d363c7f10372b7ec8eb0b30d611b92d3dcd9"
   },
   "outputs": [
    {
     "name": "stdout",
     "output_type": "stream",
     "text": [
      "GradientBoostingClassifier_stdrop processing ,,,\n",
      "GradientBoostingClassifier Score: 0.76 %\n"
     ]
    }
   ],
   "source": [
    "gb2_score = GB.score(X_test_stdrop, Y_test)\n",
    "\n",
    "print('GradientBoostingClassifier_stdrop processing ,,,')\n",
    "print('GradientBoostingClassifier Score: %.2f %%' % gb2_score)"
   ]
  },
  {
   "cell_type": "markdown",
   "metadata": {
    "_cell_guid": "93c1a550-8662-4f12-a24b-6ad9f14df882",
    "_uuid": "b794a179db6d8ae9ac47dccb1fd74492669d0f11"
   },
   "source": [
    "- ensemble"
   ]
  },
  {
   "cell_type": "code",
   "execution_count": 40,
   "metadata": {
    "_cell_guid": "35de61e3-c3ff-4c8d-9241-de794d481b1d",
    "_uuid": "e0d9dd7e7e566c20aa8023ea781db3e8da038713"
   },
   "outputs": [
    {
     "data": {
      "text/html": [
       "<div>\n",
       "<style>\n",
       "    .dataframe thead tr:only-child th {\n",
       "        text-align: right;\n",
       "    }\n",
       "\n",
       "    .dataframe thead th {\n",
       "        text-align: left;\n",
       "    }\n",
       "\n",
       "    .dataframe tbody tr th {\n",
       "        vertical-align: top;\n",
       "    }\n",
       "</style>\n",
       "<table border=\"1\" class=\"dataframe\">\n",
       "  <thead>\n",
       "    <tr style=\"text-align: right;\">\n",
       "      <th></th>\n",
       "      <th>dst_host_same_srv_rate</th>\n",
       "      <th>dst_host_same_src_port_rate</th>\n",
       "      <th>same_srv_rate</th>\n",
       "      <th>dst_bytes</th>\n",
       "      <th>diff_srv_rate</th>\n",
       "      <th>dst_host_serror_rate</th>\n",
       "      <th>duration</th>\n",
       "      <th>rerror_rate</th>\n",
       "      <th>logged_in</th>\n",
       "      <th>dst_host_rerror_rate</th>\n",
       "      <th>...</th>\n",
       "      <th>protocol_type</th>\n",
       "      <th>dst_host_srv_rerror_rate</th>\n",
       "      <th>dst_host_diff_srv_rate</th>\n",
       "      <th>dst_host_srv_diff_host_rate</th>\n",
       "      <th>serror_rate</th>\n",
       "      <th>src_bytes</th>\n",
       "      <th>service</th>\n",
       "      <th>dst_host_count</th>\n",
       "      <th>dst_host_srv_count</th>\n",
       "      <th>count</th>\n",
       "    </tr>\n",
       "  </thead>\n",
       "  <tbody>\n",
       "    <tr>\n",
       "      <th>0</th>\n",
       "      <td>1.00</td>\n",
       "      <td>0.00</td>\n",
       "      <td>1.0</td>\n",
       "      <td>0</td>\n",
       "      <td>0.0</td>\n",
       "      <td>0.65</td>\n",
       "      <td>0</td>\n",
       "      <td>0.0</td>\n",
       "      <td>0</td>\n",
       "      <td>0.32</td>\n",
       "      <td>...</td>\n",
       "      <td>0</td>\n",
       "      <td>0.32</td>\n",
       "      <td>0.00</td>\n",
       "      <td>0.00</td>\n",
       "      <td>1.0</td>\n",
       "      <td>0</td>\n",
       "      <td>25</td>\n",
       "      <td>255</td>\n",
       "      <td>255</td>\n",
       "      <td>110</td>\n",
       "    </tr>\n",
       "    <tr>\n",
       "      <th>1</th>\n",
       "      <td>1.00</td>\n",
       "      <td>1.00</td>\n",
       "      <td>1.0</td>\n",
       "      <td>1856</td>\n",
       "      <td>0.0</td>\n",
       "      <td>0.00</td>\n",
       "      <td>0</td>\n",
       "      <td>0.0</td>\n",
       "      <td>1</td>\n",
       "      <td>0.00</td>\n",
       "      <td>...</td>\n",
       "      <td>0</td>\n",
       "      <td>0.00</td>\n",
       "      <td>0.00</td>\n",
       "      <td>0.06</td>\n",
       "      <td>0.0</td>\n",
       "      <td>312</td>\n",
       "      <td>25</td>\n",
       "      <td>1</td>\n",
       "      <td>254</td>\n",
       "      <td>1</td>\n",
       "    </tr>\n",
       "    <tr>\n",
       "      <th>2</th>\n",
       "      <td>1.00</td>\n",
       "      <td>0.01</td>\n",
       "      <td>1.0</td>\n",
       "      <td>2058</td>\n",
       "      <td>0.0</td>\n",
       "      <td>0.01</td>\n",
       "      <td>0</td>\n",
       "      <td>0.0</td>\n",
       "      <td>1</td>\n",
       "      <td>0.00</td>\n",
       "      <td>...</td>\n",
       "      <td>0</td>\n",
       "      <td>0.00</td>\n",
       "      <td>0.00</td>\n",
       "      <td>0.05</td>\n",
       "      <td>0.0</td>\n",
       "      <td>245</td>\n",
       "      <td>25</td>\n",
       "      <td>114</td>\n",
       "      <td>255</td>\n",
       "      <td>5</td>\n",
       "    </tr>\n",
       "    <tr>\n",
       "      <th>3</th>\n",
       "      <td>1.00</td>\n",
       "      <td>0.00</td>\n",
       "      <td>1.0</td>\n",
       "      <td>1267</td>\n",
       "      <td>0.0</td>\n",
       "      <td>0.00</td>\n",
       "      <td>0</td>\n",
       "      <td>0.0</td>\n",
       "      <td>1</td>\n",
       "      <td>0.00</td>\n",
       "      <td>...</td>\n",
       "      <td>0</td>\n",
       "      <td>0.00</td>\n",
       "      <td>0.00</td>\n",
       "      <td>0.00</td>\n",
       "      <td>0.0</td>\n",
       "      <td>298</td>\n",
       "      <td>25</td>\n",
       "      <td>255</td>\n",
       "      <td>255</td>\n",
       "      <td>4</td>\n",
       "    </tr>\n",
       "    <tr>\n",
       "      <th>4</th>\n",
       "      <td>0.18</td>\n",
       "      <td>0.18</td>\n",
       "      <td>1.0</td>\n",
       "      <td>0</td>\n",
       "      <td>0.0</td>\n",
       "      <td>0.00</td>\n",
       "      <td>0</td>\n",
       "      <td>0.0</td>\n",
       "      <td>0</td>\n",
       "      <td>0.00</td>\n",
       "      <td>...</td>\n",
       "      <td>0</td>\n",
       "      <td>0.00</td>\n",
       "      <td>0.03</td>\n",
       "      <td>0.00</td>\n",
       "      <td>0.0</td>\n",
       "      <td>740</td>\n",
       "      <td>20</td>\n",
       "      <td>104</td>\n",
       "      <td>19</td>\n",
       "      <td>1</td>\n",
       "    </tr>\n",
       "  </tbody>\n",
       "</table>\n",
       "<p>5 rows × 25 columns</p>\n",
       "</div>"
      ],
      "text/plain": [
       "   dst_host_same_srv_rate  dst_host_same_src_port_rate  same_srv_rate  \\\n",
       "0                    1.00                         0.00            1.0   \n",
       "1                    1.00                         1.00            1.0   \n",
       "2                    1.00                         0.01            1.0   \n",
       "3                    1.00                         0.00            1.0   \n",
       "4                    0.18                         0.18            1.0   \n",
       "\n",
       "   dst_bytes  diff_srv_rate  dst_host_serror_rate  duration  rerror_rate  \\\n",
       "0          0            0.0                  0.65         0          0.0   \n",
       "1       1856            0.0                  0.00         0          0.0   \n",
       "2       2058            0.0                  0.01         0          0.0   \n",
       "3       1267            0.0                  0.00         0          0.0   \n",
       "4          0            0.0                  0.00         0          0.0   \n",
       "\n",
       "   logged_in  dst_host_rerror_rate  ...    protocol_type  \\\n",
       "0          0                  0.32  ...                0   \n",
       "1          1                  0.00  ...                0   \n",
       "2          1                  0.00  ...                0   \n",
       "3          1                  0.00  ...                0   \n",
       "4          0                  0.00  ...                0   \n",
       "\n",
       "   dst_host_srv_rerror_rate  dst_host_diff_srv_rate  \\\n",
       "0                      0.32                    0.00   \n",
       "1                      0.00                    0.00   \n",
       "2                      0.00                    0.00   \n",
       "3                      0.00                    0.00   \n",
       "4                      0.00                    0.03   \n",
       "\n",
       "   dst_host_srv_diff_host_rate  serror_rate  src_bytes  service  \\\n",
       "0                         0.00          1.0          0       25   \n",
       "1                         0.06          0.0        312       25   \n",
       "2                         0.05          0.0        245       25   \n",
       "3                         0.00          0.0        298       25   \n",
       "4                         0.00          0.0        740       20   \n",
       "\n",
       "   dst_host_count  dst_host_srv_count  count  \n",
       "0             255                 255    110  \n",
       "1               1                 254      1  \n",
       "2             114                 255      5  \n",
       "3             255                 255      4  \n",
       "4             104                  19      1  \n",
       "\n",
       "[5 rows x 25 columns]"
      ]
     },
     "execution_count": 40,
     "metadata": {},
     "output_type": "execute_result"
    }
   ],
   "source": [
    "X_train_ens = X_train[selected_features]\n",
    "X_train_ens.head()\n",
    "\n",
    "X_test_ens = X_test[selected_features]\n",
    "X_test_ens.head()"
   ]
  },
  {
   "cell_type": "markdown",
   "metadata": {
    "_cell_guid": "cf28a870-2701-4887-ac89-a5250d52e19a",
    "_uuid": "2754765183612de6d7cb33d010886791d23f2eed"
   },
   "source": [
    "### 3. Correlation\n",
    " correlation"
   ]
  },
  {
   "cell_type": "code",
   "execution_count": 41,
   "metadata": {
    "_cell_guid": "a2c8bd16-25b4-477e-bf5d-c762243079f2",
    "_uuid": "b10e7c3523f29bc884fc9e20748ebcba7d7c0f55"
   },
   "outputs": [
    {
     "data": {
      "text/plain": [
       "<matplotlib.axes._subplots.AxesSubplot at 0x7f14552ea588>"
      ]
     },
     "execution_count": 41,
     "metadata": {},
     "output_type": "execute_result"
    },
    {
     "data": {
      "image/png": "[encoded data removed]",
      "text/plain": [
       "<matplotlib.figure.Figure at 0x7f14552e1518>"
      ]
     },
     "metadata": {},
     "output_type": "display_data"
    }
   ],
   "source": [
    "sample = X_train_ens[:10000]\n",
    "\n",
    "colormap = plt.cm.viridis\n",
    "plt.figure(figsize=(20, 20))\n",
    "sns.heatmap(sample.astype(float).corr(), linewidths=0.1, vmax=1.0, square=True, cmap=colormap, annot=True)"
   ]
  },
  {
   "cell_type": "markdown",
   "metadata": {
    "_cell_guid": "8b1afd46-b34f-4023-baff-5910a50042a3",
    "_uuid": "caf82815aee36b2a4983dd9b5dd27e4628b9e9ee"
   },
   "source": [
    " feature dependency"
   ]
  },
  {
   "cell_type": "code",
   "execution_count": 42,
   "metadata": {
    "_cell_guid": "c460679f-30ad-482d-bb94-3d04203283af",
    "_uuid": "4424fb798329958c7fb825bd2be21bb07352edc0"
   },
   "outputs": [
    {
     "data": {
      "text/html": [
       "<div>\n",
       "<style>\n",
       "    .dataframe thead tr:only-child th {\n",
       "        text-align: right;\n",
       "    }\n",
       "\n",
       "    .dataframe thead th {\n",
       "        text-align: left;\n",
       "    }\n",
       "\n",
       "    .dataframe tbody tr th {\n",
       "        vertical-align: top;\n",
       "    }\n",
       "</style>\n",
       "<table border=\"1\" class=\"dataframe\">\n",
       "  <thead>\n",
       "    <tr style=\"text-align: right;\">\n",
       "      <th></th>\n",
       "      <th>dst_host_same_srv_rate</th>\n",
       "      <th>dst_host_same_src_port_rate</th>\n",
       "      <th>same_srv_rate</th>\n",
       "      <th>dst_bytes</th>\n",
       "      <th>diff_srv_rate</th>\n",
       "      <th>duration</th>\n",
       "      <th>rerror_rate</th>\n",
       "      <th>logged_in</th>\n",
       "      <th>dst_host_rerror_rate</th>\n",
       "      <th>hot</th>\n",
       "      <th>...</th>\n",
       "      <th>dst_host_srv_serror_rate</th>\n",
       "      <th>protocol_type</th>\n",
       "      <th>dst_host_srv_rerror_rate</th>\n",
       "      <th>dst_host_diff_srv_rate</th>\n",
       "      <th>dst_host_srv_diff_host_rate</th>\n",
       "      <th>src_bytes</th>\n",
       "      <th>service</th>\n",
       "      <th>dst_host_count</th>\n",
       "      <th>dst_host_srv_count</th>\n",
       "      <th>count</th>\n",
       "    </tr>\n",
       "  </thead>\n",
       "  <tbody>\n",
       "    <tr>\n",
       "      <th>count</th>\n",
       "      <td>10000.000000</td>\n",
       "      <td>10000.000000</td>\n",
       "      <td>10000.000000</td>\n",
       "      <td>1.000000e+04</td>\n",
       "      <td>10000.000000</td>\n",
       "      <td>10000.000000</td>\n",
       "      <td>10000.000000</td>\n",
       "      <td>10000.000000</td>\n",
       "      <td>10000.000000</td>\n",
       "      <td>10000.000000</td>\n",
       "      <td>...</td>\n",
       "      <td>10000.000000</td>\n",
       "      <td>10000.000000</td>\n",
       "      <td>10000.000000</td>\n",
       "      <td>10000.000000</td>\n",
       "      <td>10000.000000</td>\n",
       "      <td>1.000000e+04</td>\n",
       "      <td>10000.000000</td>\n",
       "      <td>10000.000000</td>\n",
       "      <td>10000.000000</td>\n",
       "      <td>10000.000000</td>\n",
       "    </tr>\n",
       "    <tr>\n",
       "      <th>mean</th>\n",
       "      <td>0.605769</td>\n",
       "      <td>0.133167</td>\n",
       "      <td>0.739925</td>\n",
       "      <td>1.996999e+03</td>\n",
       "      <td>0.089752</td>\n",
       "      <td>229.263000</td>\n",
       "      <td>0.241316</td>\n",
       "      <td>0.436600</td>\n",
       "      <td>0.236296</td>\n",
       "      <td>0.093200</td>\n",
       "      <td>...</td>\n",
       "      <td>0.097781</td>\n",
       "      <td>0.278600</td>\n",
       "      <td>0.230181</td>\n",
       "      <td>0.089412</td>\n",
       "      <td>0.020102</td>\n",
       "      <td>6.845032e+03</td>\n",
       "      <td>35.451700</td>\n",
       "      <td>194.522200</td>\n",
       "      <td>139.645700</td>\n",
       "      <td>80.152400</td>\n",
       "    </tr>\n",
       "    <tr>\n",
       "      <th>std</th>\n",
       "      <td>0.436278</td>\n",
       "      <td>0.307154</td>\n",
       "      <td>0.413711</td>\n",
       "      <td>2.006975e+04</td>\n",
       "      <td>0.252240</td>\n",
       "      <td>1461.180594</td>\n",
       "      <td>0.418059</td>\n",
       "      <td>0.495989</td>\n",
       "      <td>0.389137</td>\n",
       "      <td>0.647731</td>\n",
       "      <td>...</td>\n",
       "      <td>0.279651</td>\n",
       "      <td>0.657134</td>\n",
       "      <td>0.403294</td>\n",
       "      <td>0.218190</td>\n",
       "      <td>0.089353</td>\n",
       "      <td>8.675409e+04</td>\n",
       "      <td>15.824769</td>\n",
       "      <td>93.746065</td>\n",
       "      <td>111.548555</td>\n",
       "      <td>129.028094</td>\n",
       "    </tr>\n",
       "    <tr>\n",
       "      <th>min</th>\n",
       "      <td>0.000000</td>\n",
       "      <td>0.000000</td>\n",
       "      <td>0.000000</td>\n",
       "      <td>0.000000e+00</td>\n",
       "      <td>0.000000</td>\n",
       "      <td>0.000000</td>\n",
       "      <td>0.000000</td>\n",
       "      <td>0.000000</td>\n",
       "      <td>0.000000</td>\n",
       "      <td>0.000000</td>\n",
       "      <td>...</td>\n",
       "      <td>0.000000</td>\n",
       "      <td>0.000000</td>\n",
       "      <td>0.000000</td>\n",
       "      <td>0.000000</td>\n",
       "      <td>0.000000</td>\n",
       "      <td>0.000000e+00</td>\n",
       "      <td>1.000000</td>\n",
       "      <td>0.000000</td>\n",
       "      <td>0.000000</td>\n",
       "      <td>1.000000</td>\n",
       "    </tr>\n",
       "    <tr>\n",
       "      <th>25%</th>\n",
       "      <td>0.070000</td>\n",
       "      <td>0.000000</td>\n",
       "      <td>0.200000</td>\n",
       "      <td>0.000000e+00</td>\n",
       "      <td>0.000000</td>\n",
       "      <td>0.000000</td>\n",
       "      <td>0.000000</td>\n",
       "      <td>0.000000</td>\n",
       "      <td>0.000000</td>\n",
       "      <td>0.000000</td>\n",
       "      <td>...</td>\n",
       "      <td>0.000000</td>\n",
       "      <td>0.000000</td>\n",
       "      <td>0.000000</td>\n",
       "      <td>0.000000</td>\n",
       "      <td>0.000000</td>\n",
       "      <td>0.000000e+00</td>\n",
       "      <td>25.000000</td>\n",
       "      <td>125.000000</td>\n",
       "      <td>15.000000</td>\n",
       "      <td>1.000000</td>\n",
       "    </tr>\n",
       "    <tr>\n",
       "      <th>50%</th>\n",
       "      <td>0.910000</td>\n",
       "      <td>0.000000</td>\n",
       "      <td>1.000000</td>\n",
       "      <td>4.400000e+01</td>\n",
       "      <td>0.000000</td>\n",
       "      <td>0.000000</td>\n",
       "      <td>0.000000</td>\n",
       "      <td>0.000000</td>\n",
       "      <td>0.000000</td>\n",
       "      <td>0.000000</td>\n",
       "      <td>...</td>\n",
       "      <td>0.000000</td>\n",
       "      <td>0.000000</td>\n",
       "      <td>0.000000</td>\n",
       "      <td>0.020000</td>\n",
       "      <td>0.000000</td>\n",
       "      <td>5.400000e+01</td>\n",
       "      <td>25.000000</td>\n",
       "      <td>255.000000</td>\n",
       "      <td>159.500000</td>\n",
       "      <td>8.000000</td>\n",
       "    </tr>\n",
       "    <tr>\n",
       "      <th>75%</th>\n",
       "      <td>1.000000</td>\n",
       "      <td>0.030000</td>\n",
       "      <td>1.000000</td>\n",
       "      <td>5.990000e+02</td>\n",
       "      <td>0.060000</td>\n",
       "      <td>0.000000</td>\n",
       "      <td>0.330000</td>\n",
       "      <td>1.000000</td>\n",
       "      <td>0.390000</td>\n",
       "      <td>0.000000</td>\n",
       "      <td>...</td>\n",
       "      <td>0.000000</td>\n",
       "      <td>0.000000</td>\n",
       "      <td>0.220000</td>\n",
       "      <td>0.060000</td>\n",
       "      <td>0.010000</td>\n",
       "      <td>2.850000e+02</td>\n",
       "      <td>50.000000</td>\n",
       "      <td>255.000000</td>\n",
       "      <td>255.000000</td>\n",
       "      <td>126.000000</td>\n",
       "    </tr>\n",
       "    <tr>\n",
       "      <th>max</th>\n",
       "      <td>1.000000</td>\n",
       "      <td>1.000000</td>\n",
       "      <td>1.000000</td>\n",
       "      <td>1.285078e+06</td>\n",
       "      <td>1.000000</td>\n",
       "      <td>57715.000000</td>\n",
       "      <td>1.000000</td>\n",
       "      <td>1.000000</td>\n",
       "      <td>1.000000</td>\n",
       "      <td>30.000000</td>\n",
       "      <td>...</td>\n",
       "      <td>1.000000</td>\n",
       "      <td>2.000000</td>\n",
       "      <td>1.000000</td>\n",
       "      <td>1.000000</td>\n",
       "      <td>1.000000</td>\n",
       "      <td>6.291668e+06</td>\n",
       "      <td>70.000000</td>\n",
       "      <td>255.000000</td>\n",
       "      <td>255.000000</td>\n",
       "      <td>511.000000</td>\n",
       "    </tr>\n",
       "  </tbody>\n",
       "</table>\n",
       "<p>8 rows × 22 columns</p>\n",
       "</div>"
      ],
      "text/plain": [
       "       dst_host_same_srv_rate  dst_host_same_src_port_rate  same_srv_rate  \\\n",
       "count            10000.000000                 10000.000000   10000.000000   \n",
       "mean                 0.605769                     0.133167       0.739925   \n",
       "std                  0.436278                     0.307154       0.413711   \n",
       "min                  0.000000                     0.000000       0.000000   \n",
       "25%                  0.070000                     0.000000       0.200000   \n",
       "50%                  0.910000                     0.000000       1.000000   \n",
       "75%                  1.000000                     0.030000       1.000000   \n",
       "max                  1.000000                     1.000000       1.000000   \n",
       "\n",
       "          dst_bytes  diff_srv_rate      duration   rerror_rate     logged_in  \\\n",
       "count  1.000000e+04   10000.000000  10000.000000  10000.000000  10000.000000   \n",
       "mean   1.996999e+03       0.089752    229.263000      0.241316      0.436600   \n",
       "std    2.006975e+04       0.252240   1461.180594      0.418059      0.495989   \n",
       "min    0.000000e+00       0.000000      0.000000      0.000000      0.000000   \n",
       "25%    0.000000e+00       0.000000      0.000000      0.000000      0.000000   \n",
       "50%    4.400000e+01       0.000000      0.000000      0.000000      0.000000   \n",
       "75%    5.990000e+02       0.060000      0.000000      0.330000      1.000000   \n",
       "max    1.285078e+06       1.000000  57715.000000      1.000000      1.000000   \n",
       "\n",
       "       dst_host_rerror_rate           hot      ...       \\\n",
       "count          10000.000000  10000.000000      ...        \n",
       "mean               0.236296      0.093200      ...        \n",
       "std                0.389137      0.647731      ...        \n",
       "min                0.000000      0.000000      ...        \n",
       "25%                0.000000      0.000000      ...        \n",
       "50%                0.000000      0.000000      ...        \n",
       "75%                0.390000      0.000000      ...        \n",
       "max                1.000000     30.000000      ...        \n",
       "\n",
       "       dst_host_srv_serror_rate  protocol_type  dst_host_srv_rerror_rate  \\\n",
       "count              10000.000000   10000.000000              10000.000000   \n",
       "mean                   0.097781       0.278600                  0.230181   \n",
       "std                    0.279651       0.657134                  0.403294   \n",
       "min                    0.000000       0.000000                  0.000000   \n",
       "25%                    0.000000       0.000000                  0.000000   \n",
       "50%                    0.000000       0.000000                  0.000000   \n",
       "75%                    0.000000       0.000000                  0.220000   \n",
       "max                    1.000000       2.000000                  1.000000   \n",
       "\n",
       "       dst_host_diff_srv_rate  dst_host_srv_diff_host_rate     src_bytes  \\\n",
       "count            10000.000000                 10000.000000  1.000000e+04   \n",
       "mean                 0.089412                     0.020102  6.845032e+03   \n",
       "std                  0.218190                     0.089353  8.675409e+04   \n",
       "min                  0.000000                     0.000000  0.000000e+00   \n",
       "25%                  0.000000                     0.000000  0.000000e+00   \n",
       "50%                  0.020000                     0.000000  5.400000e+01   \n",
       "75%                  0.060000                     0.010000  2.850000e+02   \n",
       "max                  1.000000                     1.000000  6.291668e+06   \n",
       "\n",
       "            service  dst_host_count  dst_host_srv_count         count  \n",
       "count  10000.000000    10000.000000        10000.000000  10000.000000  \n",
       "mean      35.451700      194.522200          139.645700     80.152400  \n",
       "std       15.824769       93.746065          111.548555    129.028094  \n",
       "min        1.000000        0.000000            0.000000      1.000000  \n",
       "25%       25.000000      125.000000           15.000000      1.000000  \n",
       "50%       25.000000      255.000000          159.500000      8.000000  \n",
       "75%       50.000000      255.000000          255.000000    126.000000  \n",
       "max       70.000000      255.000000          255.000000    511.000000  \n",
       "\n",
       "[8 rows x 22 columns]"
      ]
     },
     "execution_count": 42,
     "metadata": {},
     "output_type": "execute_result"
    }
   ],
   "source": [
    "selected2 = ['flag', 'dst_host_serror_rate', 'serror_rate']\n",
    "X_train_cordrop = X_train_ens.drop(selected2, axis=1)\n",
    "X_train_cordrop.describe()\n",
    "\n",
    "X_test_cordrop = X_test_ens.drop(selected2, axis=1)\n",
    "X_test_cordrop.describe()"
   ]
  },
  {
   "cell_type": "markdown",
   "metadata": {
    "_cell_guid": "bca84307-e401-4c50-9437-990f23354504",
    "_uuid": "437afad9f3871fa8587de8aa3e8c26ca7aea5c82"
   },
   "source": [
    "## 2) Modeling"
   ]
  },
  {
   "cell_type": "markdown",
   "metadata": {
    "_cell_guid": "99a7ea76-d290-4cba-9db2-5e32fd4ef880",
    "_uuid": "5a62f476a6d659f77dbb50316f2c8d315eb0b81f"
   },
   "source": [
    "### Feature selection- modeling (low deviation, high correlation "
   ]
  },
  {
   "cell_type": "markdown",
   "metadata": {
    "_cell_guid": "99fe485a-9166-4981-9b43-4e4870bb8b61",
    "_uuid": "aa98e8b43c274dce6059e103f8e21f9f3b102ca1"
   },
   "source": [
    "### Ensemble modeling- feature- modeling "
   ]
  },
  {
   "cell_type": "code",
   "execution_count": 43,
   "metadata": {
    "_cell_guid": "c23bd60e-53b1-4c86-86d6-3c17a3d68559",
    "_uuid": "a246e57258d14976d35c4dbdabc7ca3f483b34ed"
   },
   "outputs": [
    {
     "data": {
      "text/plain": [
       "AdaBoostClassifier(algorithm='SAMME.R',\n",
       "          base_estimator=DecisionTreeClassifier(class_weight=None, criterion='gini', max_depth=None,\n",
       "            max_features=None, max_leaf_nodes=None,\n",
       "            min_impurity_decrease=0.0, min_impurity_split=None,\n",
       "            min_samples_leaf=1, min_samples_split=2,\n",
       "            min_weight_fraction_leaf=0.0, presort=False, random_state=None,\n",
       "            splitter='best'),\n",
       "          learning_rate=1.0, n_estimators=100, random_state=None)"
      ]
     },
     "execution_count": 43,
     "metadata": {},
     "output_type": "execute_result"
    }
   ],
   "source": [
    "AB.fit(X_train_cordrop, Y_train)"
   ]
  },
  {
   "cell_type": "code",
   "execution_count": 44,
   "metadata": {
    "_cell_guid": "b10f4e16-ec4c-4282-b220-4b89890beafd",
    "_uuid": "727fda72f8d042aceeeb3ec34ddb31ecd89cfdff"
   },
   "outputs": [
    {
     "name": "stdout",
     "output_type": "stream",
     "text": [
      "AdaBoostClassifier_final processing ,,,\n",
      "AdaBoostClassifier_final Score: 0.761 %\n"
     ]
    }
   ],
   "source": [
    "ab_finalscore = AB.score(X_test_cordrop, Y_test)\n",
    "\n",
    "print('AdaBoostClassifier_final processing ,,,')\n",
    "print('AdaBoostClassifier_final Score: %.3f %%' % ab_finalscore)"
   ]
  },
  {
   "cell_type": "code",
   "execution_count": 45,
   "metadata": {
    "_cell_guid": "6c5110b5-31be-481c-851b-61ddd2805af9",
    "_uuid": "68f083e6cd6b486f0d9f8abac38f71c5b7c94c71"
   },
   "outputs": [
    {
     "data": {
      "text/plain": [
       "RandomForestClassifier(bootstrap=True, class_weight=None, criterion='entropy',\n",
       "            max_depth=None, max_features='auto', max_leaf_nodes=None,\n",
       "            min_impurity_decrease=0.0, min_impurity_split=None,\n",
       "            min_samples_leaf=1, min_samples_split=2,\n",
       "            min_weight_fraction_leaf=0.0, n_estimators=10, n_jobs=1,\n",
       "            oob_score=False, random_state=None, verbose=0,\n",
       "            warm_start=False)"
      ]
     },
     "execution_count": 45,
     "metadata": {},
     "output_type": "execute_result"
    }
   ],
   "source": [
    "RF.fit(X_train_cordrop, Y_train)"
   ]
  },
  {
   "cell_type": "code",
   "execution_count": 46,
   "metadata": {
    "_cell_guid": "52819ba1-5003-4d17-92a2-18088987b29f",
    "_uuid": "7c00767e23202dbbeafc7bf1413f64602d516320"
   },
   "outputs": [
    {
     "name": "stdout",
     "output_type": "stream",
     "text": [
      "RandomForestClassifier_final processing ,,,\n",
      "RandomForestClassifier_final Score: 0.749 %\n"
     ]
    }
   ],
   "source": [
    "rf_finalscore = RF.score(X_test_cordrop, Y_test)\n",
    "\n",
    "print('RandomForestClassifier_final processing ,,,')\n",
    "print('RandomForestClassifier_final Score: %.3f %%' % rf_finalscore)"
   ]
  },
  {
   "cell_type": "code",
   "execution_count": 47,
   "metadata": {
    "_cell_guid": "2f5acd58-35ae-48ec-84b8-ade75c908c17",
    "_uuid": "855df2c7826cc5cfe6fe4552dc5f2d22fea395cd"
   },
   "outputs": [
    {
     "data": {
      "text/plain": [
       "ExtraTreesClassifier(bootstrap=False, class_weight=None, criterion='gini',\n",
       "           max_depth=None, max_features='auto', max_leaf_nodes=None,\n",
       "           min_impurity_decrease=0.0, min_impurity_split=None,\n",
       "           min_samples_leaf=1, min_samples_split=2,\n",
       "           min_weight_fraction_leaf=0.0, n_estimators=10, n_jobs=1,\n",
       "           oob_score=False, random_state=None, verbose=0, warm_start=False)"
      ]
     },
     "execution_count": 47,
     "metadata": {},
     "output_type": "execute_result"
    }
   ],
   "source": [
    "ET.fit(X_train_cordrop, Y_train)"
   ]
  },
  {
   "cell_type": "code",
   "execution_count": 48,
   "metadata": {
    "_cell_guid": "eb176ae8-b82e-492b-a72c-ddfb2ddf5124",
    "_uuid": "c2ecd7d47b8ae0c242632d1c9d470c37cf2c6847"
   },
   "outputs": [
    {
     "name": "stdout",
     "output_type": "stream",
     "text": [
      "ExtraTreesClassifier_final processing ,,,\n",
      "ExtraTreesClassifier_final Score: 0.750 %\n"
     ]
    }
   ],
   "source": [
    "et_finalscore = ET.score(X_test_cordrop, Y_test)\n",
    "\n",
    "print('ExtraTreesClassifier_final processing ,,,')\n",
    "print('ExtraTreesClassifier_final Score: %.3f %%' % et_finalscore)"
   ]
  },
  {
   "cell_type": "code",
   "execution_count": 49,
   "metadata": {
    "_cell_guid": "dc93742b-4c34-49b1-8a5e-4c8011036914",
    "_uuid": "115417bc401ba9fc71796b1d05b37dcc12ee5366"
   },
   "outputs": [
    {
     "data": {
      "text/plain": [
       "GradientBoostingClassifier(criterion='friedman_mse', init=None,\n",
       "              learning_rate=0.1, loss='deviance', max_depth=3,\n",
       "              max_features='auto', max_leaf_nodes=None,\n",
       "              min_impurity_decrease=0.0, min_impurity_split=None,\n",
       "              min_samples_leaf=1, min_samples_split=2,\n",
       "              min_weight_fraction_leaf=0.0, n_estimators=200,\n",
       "              presort='auto', random_state=None, subsample=1.0, verbose=0,\n",
       "              warm_start=False)"
      ]
     },
     "execution_count": 49,
     "metadata": {},
     "output_type": "execute_result"
    }
   ],
   "source": [
    "GB.fit(X_train_cordrop, Y_train)"
   ]
  },
  {
   "cell_type": "code",
   "execution_count": 50,
   "metadata": {
    "_cell_guid": "dd95914e-f3fd-42ef-a0a3-3c53d86ee32b",
    "_uuid": "f9e2d9c47a0af6192dd9ba4fa6ab954355751e3f"
   },
   "outputs": [
    {
     "name": "stdout",
     "output_type": "stream",
     "text": [
      "GradientBoostClassifier_final processing ,,,\n",
      "GradientBoostClassifier_final Score: 0.768 %\n"
     ]
    }
   ],
   "source": [
    "gb_finalscore = GB.score(X_test_cordrop, Y_test)\n",
    "\n",
    "print('GradientBoostClassifier_final processing ,,,')\n",
    "print('GradientBoostClassifier_final Score: %.3f %%' % gb_finalscore)"
   ]
  },
  {
   "cell_type": "code",
   "execution_count": 51,
   "metadata": {
    "_cell_guid": "549bf09c-09d5-4f8d-b0ca-0b74b89a7880",
    "_uuid": "ba400a5487c87ce330963b119ab56e5229f74595"
   },
   "outputs": [
    {
     "data": {
      "text/plain": [
       "LinearRegression(copy_X=True, fit_intercept=True, n_jobs=1, normalize=False)"
      ]
     },
     "execution_count": 51,
     "metadata": {},
     "output_type": "execute_result"
    }
   ],
   "source": [
    "LR.fit(X_train_cordrop, Y_train)"
   ]
  },
  {
   "cell_type": "code",
   "execution_count": 52,
   "metadata": {
    "_cell_guid": "9f9b879c-21e0-4d1d-9e80-0354a1532143",
    "_uuid": "d81105f2fc8b095ab0d7934a805a3c41ed59510d"
   },
   "outputs": [
    {
     "name": "stdout",
     "output_type": "stream",
     "text": [
      "LinearRegression_final processing ,,,\n",
      "LinearRegression_final Score: 0.284 %\n"
     ]
    }
   ],
   "source": [
    "lr_finalscore = LR.score(X_test_cordrop, Y_test)\n",
    "\n",
    "print('LinearRegression_final processing ,,,')\n",
    "print('LinearRegression_final Score: %.3f %%' % lr_finalscore)"
   ]
  },
  {
   "cell_type": "code",
   "execution_count": 53,
   "metadata": {
    "_cell_guid": "3cb65a03-8abd-464c-8b2d-5dbb7dc860a4",
    "_uuid": "8a9485ce301f024f8463fa91dd0f39873e661b4f",
    "collapsed": true
   },
   "outputs": [],
   "source": [
    "from sklearn.neural_network import MLPClassifier"
   ]
  },
  {
   "cell_type": "code",
   "execution_count": 54,
   "metadata": {
    "_cell_guid": "c950918b-b173-4740-862c-0c3b708a9235",
    "_uuid": "cd31d2134b4717f323c45cd31b6f1db63ca46d4a",
    "collapsed": true
   },
   "outputs": [],
   "source": [
    "MLP = MLPClassifier(hidden_layer_sizes=(1000, 300, 300), solver='adam', shuffle=False, tol = 0.0001)"
   ]
  },
  {
   "cell_type": "code",
   "execution_count": 55,
   "metadata": {
    "_cell_guid": "46881ae7-400a-4a75-8591-15328d0e6710",
    "_uuid": "1572769ae4717ab069b458d10cd0fd5853e4d679"
   },
   "outputs": [
    {
     "data": {
      "text/plain": [
       "MLPClassifier(activation='relu', alpha=0.0001, batch_size='auto', beta_1=0.9,\n",
       "       beta_2=0.999, early_stopping=False, epsilon=1e-08,\n",
       "       hidden_layer_sizes=(1000, 300, 300), learning_rate='constant',\n",
       "       learning_rate_init=0.001, max_iter=200, momentum=0.9,\n",
       "       nesterovs_momentum=True, power_t=0.5, random_state=None,\n",
       "       shuffle=False, solver='adam', tol=0.0001, validation_fraction=0.1,\n",
       "       verbose=False, warm_start=False)"
      ]
     },
     "execution_count": 55,
     "metadata": {},
     "output_type": "execute_result"
    }
   ],
   "source": [
    "MLP.fit(X_train_cordrop, Y_train)"
   ]
  },
  {
   "cell_type": "code",
   "execution_count": 56,
   "metadata": {
    "_cell_guid": "9decad79-3473-4864-a492-28706f6e21a2",
    "_uuid": "c4319c1619926844ac840bd07d709dbe6a005e71"
   },
   "outputs": [
    {
     "name": "stdout",
     "output_type": "stream",
     "text": [
      "MLP_final processing ,,,\n",
      "MLP_final Score: 0.688 %\n"
     ]
    }
   ],
   "source": [
    "mlp_finalscore = MLP.score(X_test_cordrop, Y_test)\n",
    "\n",
    "print('MLP_final processing ,,,')\n",
    "print('MLP_final Score: %.3f %%' % mlp_finalscore)"
   ]
  },
  {
   "cell_type": "markdown",
   "metadata": {
    "_cell_guid": "43f36342-876f-4a20-99d0-ab8234114d35",
    "_uuid": "f13128bb7b5d80477a6fa37be02cd133c82c22f2"
   },
   "source": [
    "## 3) Result"
   ]
  },
  {
   "cell_type": "markdown",
   "metadata": {
    "_cell_guid": "8f682c88-9c33-4fd8-a2ce-1a8d22d3bfdd",
    "_uuid": "87dbe5f8f85a766174de6dd17fd23e6a3118463b"
   },
   "source": [
    "feature selection, extraction overfitting"
   ]
  },
  {
   "cell_type": "markdown",
   "metadata": {
    "_cell_guid": "091ef466-7c39-4968-a207-2acfe43e0ef5",
    "_uuid": "7787771bb862c32bf2f9d8aef64bc1b1f41f5ac2",
    "collapsed": true
   },
   "source": [
    "###  score"
   ]
  },
  {
   "cell_type": "markdown",
   "metadata": {
    "_cell_guid": "21cf9ef4-b728-473d-ab5c-9fc750d3b6d0",
    "_uuid": "5a8962af1fe83734dd1306b25f014a9a224b37f1"
   },
   "source": [
    "- first models"
   ]
  },
  {
   "cell_type": "code",
   "execution_count": 57,
   "metadata": {
    "_cell_guid": "62c2bfc6-4371-425f-8122-ebbcde01d793",
    "_uuid": "2addbacc5e659767afd22b7ba6019642bf8dd891"
   },
   "outputs": [
    {
     "data": {
      "text/html": [
       "<div>\n",
       "<style>\n",
       "    .dataframe thead tr:only-child th {\n",
       "        text-align: right;\n",
       "    }\n",
       "\n",
       "    .dataframe thead th {\n",
       "        text-align: left;\n",
       "    }\n",
       "\n",
       "    .dataframe tbody tr th {\n",
       "        vertical-align: top;\n",
       "    }\n",
       "</style>\n",
       "<table border=\"1\" class=\"dataframe\">\n",
       "  <thead>\n",
       "    <tr style=\"text-align: right;\">\n",
       "      <th></th>\n",
       "      <th>Model</th>\n",
       "      <th>accuracy</th>\n",
       "    </tr>\n",
       "  </thead>\n",
       "  <tbody>\n",
       "    <tr>\n",
       "      <th>0</th>\n",
       "      <td>Linear Regression</td>\n",
       "      <td>0.334265</td>\n",
       "    </tr>\n",
       "    <tr>\n",
       "      <th>1</th>\n",
       "      <td>Adaboost</td>\n",
       "      <td>0.760700</td>\n",
       "    </tr>\n",
       "    <tr>\n",
       "      <th>2</th>\n",
       "      <td>RandomForest</td>\n",
       "      <td>0.755400</td>\n",
       "    </tr>\n",
       "    <tr>\n",
       "      <th>3</th>\n",
       "      <td>ExtraTrees</td>\n",
       "      <td>0.752300</td>\n",
       "    </tr>\n",
       "    <tr>\n",
       "      <th>4</th>\n",
       "      <td>GradientBoost</td>\n",
       "      <td>0.763400</td>\n",
       "    </tr>\n",
       "  </tbody>\n",
       "</table>\n",
       "</div>"
      ],
      "text/plain": [
       "               Model  accuracy\n",
       "0  Linear Regression  0.334265\n",
       "1           Adaboost  0.760700\n",
       "2       RandomForest  0.755400\n",
       "3         ExtraTrees  0.752300\n",
       "4      GradientBoost  0.763400"
      ]
     },
     "execution_count": 57,
     "metadata": {},
     "output_type": "execute_result"
    }
   ],
   "source": [
    "first_model = {'Model': ['Linear Regression', 'Adaboost', 'RandomForest', 'ExtraTrees', 'GradientBoost'],\n",
    "               'accuracy' : [lr_score, ab_score, rf_score, et_score, gb_score]}\n",
    "\n",
    "result_df = pd.DataFrame(data = first_model)\n",
    "result_df"
   ]
  },
  {
   "cell_type": "code",
   "execution_count": 58,
   "metadata": {
    "_cell_guid": "1593e71a-2376-4ce0-aeed-9496d6a34033",
    "_uuid": "9a4819e0776ce7f2b4084db5fdecd50a7f005285"
   },
   "outputs": [
    {
     "data": {
      "text/plain": [
       "[Text(0,0,'Linear Regression'),\n",
       " Text(0,0,'Adaboost'),\n",
       " Text(0,0,'RandomForest'),\n",
       " Text(0,0,'ExtraTrees'),\n",
       " Text(0,0,'GradientBoost')]"
      ]
     },
     "execution_count": 58,
     "metadata": {},
     "output_type": "execute_result"
    },
    {
     "data": {
      "image/png": "[encoded data removed]",
      "text/plain": [
       "<matplotlib.figure.Figure at 0x7f14552770f0>"
      ]
     },
     "metadata": {},
     "output_type": "display_data"
    }
   ],
   "source": [
    "r1 = result_df.plot(x='Model', y='accuracy', kind='bar', figsize=(8, 8), grid=True, title='FIRST MODEL ACCURACY', colormap=plt.cm.viridis,\n",
    "               sort_columns=True)\n",
    "r1.set_xticklabels(result_df.Model, rotation = 45)"
   ]
  },
  {
   "cell_type": "markdown",
   "metadata": {
    "_cell_guid": "ac55b83e-45ca-4ebe-8b07-fe2cb8c75401",
    "_uuid": "48d088678664594035957f8eb9907f5695b0768d"
   },
   "source": [
    "- second models"
   ]
  },
  {
   "cell_type": "code",
   "execution_count": 59,
   "metadata": {
    "_cell_guid": "30f3c2a5-5580-4a5e-9d26-3c8987b96285",
    "_uuid": "a51fb147aa97a7fd947ca426e2dce59f746ccd75"
   },
   "outputs": [
    {
     "data": {
      "text/html": [
       "<div>\n",
       "<style>\n",
       "    .dataframe thead tr:only-child th {\n",
       "        text-align: right;\n",
       "    }\n",
       "\n",
       "    .dataframe thead th {\n",
       "        text-align: left;\n",
       "    }\n",
       "\n",
       "    .dataframe tbody tr th {\n",
       "        vertical-align: top;\n",
       "    }\n",
       "</style>\n",
       "<table border=\"1\" class=\"dataframe\">\n",
       "  <thead>\n",
       "    <tr style=\"text-align: right;\">\n",
       "      <th></th>\n",
       "      <th>Model</th>\n",
       "      <th>accuracy</th>\n",
       "    </tr>\n",
       "  </thead>\n",
       "  <tbody>\n",
       "    <tr>\n",
       "      <th>0</th>\n",
       "      <td>Adaboost</td>\n",
       "      <td>0.7609</td>\n",
       "    </tr>\n",
       "    <tr>\n",
       "      <th>1</th>\n",
       "      <td>RandomForest</td>\n",
       "      <td>0.7536</td>\n",
       "    </tr>\n",
       "    <tr>\n",
       "      <th>2</th>\n",
       "      <td>ExtraTrees</td>\n",
       "      <td>0.7527</td>\n",
       "    </tr>\n",
       "    <tr>\n",
       "      <th>3</th>\n",
       "      <td>GradientBoost</td>\n",
       "      <td>0.7612</td>\n",
       "    </tr>\n",
       "  </tbody>\n",
       "</table>\n",
       "</div>"
      ],
      "text/plain": [
       "           Model  accuracy\n",
       "0       Adaboost    0.7609\n",
       "1   RandomForest    0.7536\n",
       "2     ExtraTrees    0.7527\n",
       "3  GradientBoost    0.7612"
      ]
     },
     "execution_count": 59,
     "metadata": {},
     "output_type": "execute_result"
    }
   ],
   "source": [
    "second_model = {'Model': ['Adaboost', 'RandomForest', 'ExtraTrees', 'GradientBoost'],\n",
    "               'accuracy' : [ab2_score, rf2_score, et2_score, gb2_score]}\n",
    "\n",
    "result_df = pd.DataFrame(data = second_model)\n",
    "result_df"
   ]
  },
  {
   "cell_type": "code",
   "execution_count": 60,
   "metadata": {
    "_cell_guid": "d0dc189a-81b0-43ad-a816-95dd1d5de5c9",
    "_uuid": "03e9c7e9235421489641d77913f2883ee35237ef"
   },
   "outputs": [
    {
     "data": {
      "text/plain": [
       "[Text(0,0,'Adaboost'),\n",
       " Text(0,0,'RandomForest'),\n",
       " Text(0,0,'ExtraTrees'),\n",
       " Text(0,0,'GradientBoost')]"
      ]
     },
     "execution_count": 60,
     "metadata": {},
     "output_type": "execute_result"
    },
    {
     "data": {
      "image/png": "[encoded data removed]",
      "text/plain": [
       "<matplotlib.figure.Figure at 0x7f144eaed7b8>"
      ]
     },
     "metadata": {},
     "output_type": "display_data"
    }
   ],
   "source": [
    "r2 = result_df.plot(x='Model', y='accuracy', kind='bar', figsize=(8, 8), grid=True, title='SECOND MODEL ACCURACY', colormap=plt.cm.viridis,\n",
    "               sort_columns=True)\n",
    "r2.set_xticklabels(result_df.Model, rotation = 45)"
   ]
  },
  {
   "cell_type": "markdown",
   "metadata": {
    "_cell_guid": "f26eaffe-1b6f-4faa-ad93-8d5e7fa1cfd6",
    "_uuid": "71b6d0ca5a693995bc1e72150b033c526fd904fc"
   },
   "source": [
    "- final models"
   ]
  },
  {
   "cell_type": "code",
   "execution_count": 61,
   "metadata": {
    "_cell_guid": "6fa5246c-5390-4544-8395-21cd4631d4ad",
    "_uuid": "72b23787083c06d972b41872315c40196b9cc539"
   },
   "outputs": [
    {
     "data": {
      "text/html": [
       "<div>\n",
       "<style>\n",
       "    .dataframe thead tr:only-child th {\n",
       "        text-align: right;\n",
       "    }\n",
       "\n",
       "    .dataframe thead th {\n",
       "        text-align: left;\n",
       "    }\n",
       "\n",
       "    .dataframe tbody tr th {\n",
       "        vertical-align: top;\n",
       "    }\n",
       "</style>\n",
       "<table border=\"1\" class=\"dataframe\">\n",
       "  <thead>\n",
       "    <tr style=\"text-align: right;\">\n",
       "      <th></th>\n",
       "      <th>Model</th>\n",
       "      <th>accuracy</th>\n",
       "    </tr>\n",
       "  </thead>\n",
       "  <tbody>\n",
       "    <tr>\n",
       "      <th>0</th>\n",
       "      <td>Linear Regression</td>\n",
       "      <td>0.284209</td>\n",
       "    </tr>\n",
       "    <tr>\n",
       "      <th>1</th>\n",
       "      <td>Adaboost</td>\n",
       "      <td>0.760800</td>\n",
       "    </tr>\n",
       "    <tr>\n",
       "      <th>2</th>\n",
       "      <td>RandomForest</td>\n",
       "      <td>0.749100</td>\n",
       "    </tr>\n",
       "    <tr>\n",
       "      <th>3</th>\n",
       "      <td>ExtraTrees</td>\n",
       "      <td>0.750400</td>\n",
       "    </tr>\n",
       "    <tr>\n",
       "      <th>4</th>\n",
       "      <td>GradientBoost</td>\n",
       "      <td>0.767800</td>\n",
       "    </tr>\n",
       "    <tr>\n",
       "      <th>5</th>\n",
       "      <td>MLP</td>\n",
       "      <td>0.687700</td>\n",
       "    </tr>\n",
       "  </tbody>\n",
       "</table>\n",
       "</div>"
      ],
      "text/plain": [
       "               Model  accuracy\n",
       "0  Linear Regression  0.284209\n",
       "1           Adaboost  0.760800\n",
       "2       RandomForest  0.749100\n",
       "3         ExtraTrees  0.750400\n",
       "4      GradientBoost  0.767800\n",
       "5                MLP  0.687700"
      ]
     },
     "execution_count": 61,
     "metadata": {},
     "output_type": "execute_result"
    }
   ],
   "source": [
    "final_model = {'Model': ['Linear Regression', 'Adaboost', 'RandomForest', 'ExtraTrees', 'GradientBoost', 'MLP'],\n",
    "               'accuracy' : [lr_finalscore, ab_finalscore, rf_finalscore, et_finalscore, gb_finalscore, mlp_finalscore]}\n",
    "\n",
    "result_df = pd.DataFrame(data = final_model)\n",
    "result_df"
   ]
  },
  {
   "cell_type": "code",
   "execution_count": 62,
   "metadata": {
    "_cell_guid": "1f5066b8-b3e2-4037-bf27-b28a4564fe43",
    "_uuid": "508e632d6f8c00799d6eb92f32ff04a63ca1453b"
   },
   "outputs": [
    {
     "data": {
      "text/plain": [
       "[Text(0,0,'Linear Regression'),\n",
       " Text(0,0,'Adaboost'),\n",
       " Text(0,0,'RandomForest'),\n",
       " Text(0,0,'ExtraTrees'),\n",
       " Text(0,0,'GradientBoost'),\n",
       " Text(0,0,'MLP')]"
      ]
     },
     "execution_count": 62,
     "metadata": {},
     "output_type": "execute_result"
    },
    {
     "data": {
      "image/png": "[encoded data removed]",
      "text/plain": [
       "<matplotlib.figure.Figure at 0x7f144ea535c0>"
      ]
     },
     "metadata": {},
     "output_type": "display_data"
    }
   ],
   "source": [
    "r3 = result_df.plot(x='Model', y='accuracy', kind='bar', figsize=(8, 8), grid=True, title='FINAL MODEL ACCURACY', colormap=plt.cm.viridis,\n",
    "               sort_columns=True)\n",
    "r3.set_xticklabels(result_df.Model, rotation = 45)"
   ]
  },
  {
   "cell_type": "markdown",
   "metadata": {
    "_cell_guid": "b33537a6-cd41-47ef-b125-f911f1d18325",
    "_uuid": "154d61d4c43be116567977d0ca829604a43fb62d"
   },
   "source": [
    "## FASTEST AND ACCURATE MODEL - final model ExtraTrees(76.4%)\n",
    "## STRONGEST AND THE MOST ACCURATE MODEL - final mode GradientBoost(77.1%)"
   ]
  },
  {
   "cell_type": "markdown",
   "metadata": {
    "_cell_guid": "2097cca2-a6a0-4078-9d88-e0f2414e1879",
    "_uuid": "bc95b5b49eb5471639c6561e6968ca1acc62955b"
   },
   "source": [
    "Gradient boost ExtraTress"
   ]
  },
  {
   "cell_type": "code",
   "execution_count": 63,
   "metadata": {
    "collapsed": true
   },
   "outputs": [],
   "source": []
  }
 ],
 "metadata": {
  "kernelspec": {
   "display_name": "Python 3",
   "language": "python",
   "name": "python3"
  },
  "language_info": {
   "codemirror_mode": {
    "name": "ipython",
    "version": 3
   },
   "file_extension": ".py",
   "mimetype": "text/x-python",
   "name": "python",
   "nbconvert_exporter": "python",
   "pygments_lexer": "ipython3",
   "version": "3.8.5"
  }
 },
 "nbformat": 4,
 "nbformat_minor": 1
}
