{
  "nbformat": 4,
  "nbformat_minor": 0,
  "metadata": {
    "colab": {
      "provenance": [],
      "authorship_tag": "ABX9TyMAqIPr9enioD2hldgC2j6V",
      "include_colab_link": true
    },
    "kernelspec": {
      "name": "python3",
      "display_name": "Python 3"
    },
    "language_info": {
      "name": "python"
    }
  },
  "cells": [
    {
      "cell_type": "markdown",
      "metadata": {
        "id": "view-in-github",
        "colab_type": "text"
      },
      "source": [
        "<a href=\"https://colab.research.google.com/github/aomidvar/alibabainpersia/blob/master/importpyflink_test_py38-env.ipynb\" target=\"_parent\"><img src=\"https://colab.research.google.com/assets/colab-badge.svg\" alt=\"Open In Colab\"/></a>"
      ]
    },
    {
      "cell_type": "code",
      "execution_count": null,
      "metadata": {
        "colab": {
          "base_uri": "https://localhost:8080/"
        },
        "id": "OXxAX98R6ha3",
        "outputId": "31968227-d1d9-455a-dbf7-722c07c42120"
      },
      "outputs": [
        {
          "output_type": "stream",
          "name": "stdout",
          "text": [
            "--2023-05-27 16:11:53--  https://repo.anaconda.com/miniconda/Miniconda3-latest-Linux-x86_64.sh\n",
            "Resolving repo.anaconda.com (repo.anaconda.com)... 104.16.130.3, 104.16.131.3, 2606:4700::6810:8203, ...\n",
            "Connecting to repo.anaconda.com (repo.anaconda.com)|104.16.130.3|:443... connected.\n",
            "HTTP request sent, awaiting response... 200 OK\n",
            "Length: 73134376 (70M) [application/x-sh]\n",
            "Saving to: ‘mini.sh’\n",
            "\n",
            "mini.sh             100%[===================>]  69.75M   189MB/s    in 0.4s    \n",
            "\n",
            "2023-05-27 16:11:54 (189 MB/s) - ‘mini.sh’ saved [73134376/73134376]\n",
            "\n",
            "chmod: cannot access 'Miniconda3-latest-Linux-x86_64.sh': No such file or directory\n",
            "/bin/bash: ./Miniconda3-latest-Linux-x86_64.sh: No such file or directory\n"
          ]
        }
      ],
      "source": [
        "!wget -O mini.sh https://repo.anaconda.com/miniconda/Miniconda3-latest-Linux-x86_64.sh\n",
        "!chmod +x Miniconda3-latest-Linux-x86_64.sh\n",
        "!./Miniconda3-latest-Linux-x86_64.sh"
      ]
    },
    {
      "cell_type": "code",
      "source": [
        "!conda create --name pyflink-env python=3.8"
      ],
      "metadata": {
        "colab": {
          "base_uri": "https://localhost:8080/"
        },
        "id": "VO1I2rOC6tVB",
        "outputId": "cf68be01-74c8-4c8b-f38a-86143cbfc6a4"
      },
      "execution_count": null,
      "outputs": [
        {
          "output_type": "stream",
          "name": "stdout",
          "text": [
            "/bin/bash: conda: command not found\n"
          ]
        }
      ]
    },
    {
      "cell_type": "code",
      "source": [
        "!conda activate base"
      ],
      "metadata": {
        "colab": {
          "base_uri": "https://localhost:8080/"
        },
        "id": "1_K0UMau74ff",
        "outputId": "c8781191-44b3-4f4b-9880-9117f1db8529"
      },
      "execution_count": null,
      "outputs": [
        {
          "output_type": "stream",
          "name": "stdout",
          "text": [
            "\n",
            "CommandNotFoundError: Your shell has not been properly configured to use 'conda activate'.\n",
            "To initialize your shell, run\n",
            "\n",
            "    $ conda init <SHELL_NAME>\n",
            "\n",
            "Currently supported shells are:\n",
            "  - bash\n",
            "  - fish\n",
            "  - tcsh\n",
            "  - xonsh\n",
            "  - zsh\n",
            "  - powershell\n",
            "\n",
            "See 'conda init --help' for more information and options.\n",
            "\n",
            "IMPORTANT: You may need to close and restart your shell after running 'conda init'.\n",
            "\n",
            "\n"
          ]
        }
      ]
    },
    {
      "cell_type": "code",
      "source": [],
      "metadata": {
        "id": "c7vwxaHh84Kc"
      },
      "execution_count": null,
      "outputs": []
    },
    {
      "cell_type": "code",
      "source": [],
      "metadata": {
        "id": "WwmJwcyM84pZ"
      },
      "execution_count": null,
      "outputs": []
    },
    {
      "cell_type": "code",
      "source": [],
      "metadata": {
        "id": "RKx50ucK84tw"
      },
      "execution_count": null,
      "outputs": []
    },
    {
      "cell_type": "code",
      "source": [],
      "metadata": {
        "id": "pw9jnX8m84x9"
      },
      "execution_count": null,
      "outputs": []
    },
    {
      "cell_type": "code",
      "source": [
        "!conda"
      ],
      "metadata": {
        "colab": {
          "base_uri": "https://localhost:8080/"
        },
        "id": "WKmfITUX842Y",
        "outputId": "0494bf9f-41d9-4565-dbac-95c1c91e8ca5"
      },
      "execution_count": null,
      "outputs": [
        {
          "output_type": "stream",
          "name": "stdout",
          "text": [
            "usage: conda\n",
            "       [-h]\n",
            "       [-V]\n",
            "       command\n",
            "       ...\n",
            "\n",
            "conda is a tool for managing and deploying applications, environments and packages.\n",
            "\n",
            "Options:\n",
            "\n",
            "positional arguments:\n",
            "  command\n",
            "    clean\n",
            "    Remove\n",
            "    unused\n",
            "    packages\n",
            "    and caches.\n",
            "    config\n",
            "    Modify conf\n",
            "    iguration\n",
            "    values in\n",
            "    .condarc.\n",
            "    This is\n",
            "    modeled\n",
            "    after the\n",
            "    git config\n",
            "    command.\n",
            "    Writes to\n",
            "    the user\n",
            "    .condarc\n",
            "    file (/root\n",
            "    /.condarc)\n",
            "    by default.\n",
            "    create\n",
            "    Create a\n",
            "    new conda\n",
            "    environment\n",
            "    from a list\n",
            "    of\n",
            "    specified\n",
            "    packages.\n",
            "    help\n",
            "    Displays a\n",
            "    list of\n",
            "    available\n",
            "    conda\n",
            "    commands\n",
            "    and their\n",
            "    help\n",
            "    strings.\n",
            "    info\n",
            "    Display\n",
            "    information\n",
            "    about\n",
            "    current\n",
            "    conda\n",
            "    install.\n",
            "    init\n",
            "    Initialize\n",
            "    conda for\n",
            "    shell inter\n",
            "    action. [Ex\n",
            "    perimental]\n",
            "    install\n",
            "    Installs a\n",
            "    list of\n",
            "    packages\n",
            "    into a\n",
            "    specified\n",
            "    conda envir\n",
            "    onment.\n",
            "    list\n",
            "    List linked\n",
            "    packages in\n",
            "    a conda env\n",
            "    ironment.\n",
            "    package\n",
            "    Low-level\n",
            "    conda\n",
            "    package\n",
            "    utility. (E\n",
            "    XPERIMENTAL\n",
            "    )\n",
            "    remove\n",
            "    Remove a\n",
            "    list of\n",
            "    packages\n",
            "    from a\n",
            "    specified\n",
            "    conda envir\n",
            "    onment.\n",
            "    uninstall\n",
            "    Alias for\n",
            "    conda\n",
            "    remove.\n",
            "    run\n",
            "    Run an\n",
            "    executable\n",
            "    in a conda \n",
            "    environment\n",
            "    . [Experime\n",
            "    ntal]\n",
            "    search\n",
            "    Search for\n",
            "    packages\n",
            "    and display\n",
            "    associated \n",
            "    information\n",
            "    . The input\n",
            "    is a\n",
            "    MatchSpec,\n",
            "    a query\n",
            "    language\n",
            "    for conda\n",
            "    packages.\n",
            "    See\n",
            "    examples\n",
            "    below.\n",
            "    update\n",
            "    Updates\n",
            "    conda\n",
            "    packages to\n",
            "    the latest\n",
            "    compatible\n",
            "    version.\n",
            "    upgrade\n",
            "    Alias for\n",
            "    conda\n",
            "    update.\n",
            "\n",
            "optional arguments:\n",
            "  -h, --help\n",
            "    Show this\n",
            "    help\n",
            "    message and\n",
            "    exit.\n",
            "  -V, --version\n",
            "    Show the\n",
            "    conda\n",
            "    version\n",
            "    number and\n",
            "    exit.\n",
            "\n",
            "conda commands available from other packages:\n",
            "  env\n"
          ]
        }
      ]
    }
  ]
}